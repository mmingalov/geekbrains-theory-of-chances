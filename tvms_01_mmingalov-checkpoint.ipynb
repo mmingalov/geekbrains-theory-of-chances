{
 "cells": [
  {
   "cell_type": "markdown",
   "metadata": {},
   "source": [
    "### Задача 1\n",
    "\n",
    "Из колоды в 52 карты вынимают случайным образом 4 карты. Найти число исходов, соответствующих тому, что был вытянут хотя бы один туз."
   ]
  },
  {
   "cell_type": "markdown",
   "metadata": {},
   "source": [
    "### Решение"
   ]
  },
  {
   "cell_type": "markdown",
   "metadata": {},
   "source": [
    "в колоде 13 разных карт по 4 штуки (2,3,4,5,6,7,8,9,10,В,Д,К,Т), итого 13*4 = 52 карты\n",
    "\n",
    "искомое число исходов (сочетаний) можно найти по частям, т.е. пусть число исходов\n",
    "- a - из 4-х вынутых карт попался только один туз\n",
    "- b - из 4-х вынутых карт попалось два туза\n",
    "- c - из 4-х вынутых карт попалось три туза\n",
    "- d - из 4-х вынутых карт попалось четыре туза\n",
    "\n",
    "тогда искомое решение будет находиться через a+b+c+d\n",
    "\n"
   ]
  },
  {
   "cell_type": "markdown",
   "metadata": {},
   "source": [
    "#### Формулы комбинаторики\n",
    "Для более сложных случаев число исходов 𝑘, благоприятствующих данному событию, или число всех элементарных исходов испытания (𝑛) можно вычислить с помощью формул комбинаторики.\n",
    "\n",
    "Число сочетаний из  𝑛  элементов по  𝑘  элементов в каждом (в сочетаниях порядок не важен):"
   ]
  },
  {
   "cell_type": "markdown",
   "metadata": {},
   "source": [
    "$$C_n^k = \\frac{n!}{k!(n - k)!}$$"
   ]
  },
  {
   "cell_type": "code",
   "execution_count": 77,
   "metadata": {},
   "outputs": [],
   "source": [
    "from math import factorial\n",
    "import numpy as np"
   ]
  },
  {
   "cell_type": "code",
   "execution_count": 78,
   "metadata": {},
   "outputs": [],
   "source": [
    "def combinations(n, k):\n",
    "    return int(factorial(n) / (factorial(k) * factorial(n - k)))"
   ]
  },
  {
   "cell_type": "code",
   "execution_count": 79,
   "metadata": {},
   "outputs": [],
   "source": [
    "#количество карт в колоде\n",
    "k=52"
   ]
  },
  {
   "cell_type": "code",
   "execution_count": 80,
   "metadata": {},
   "outputs": [
    {
     "name": "stdout",
     "output_type": "stream",
     "text": [
      "4 17296 69184\n"
     ]
    }
   ],
   "source": [
    "i = 1\n",
    "c1 = combinations(4,i)\n",
    "c2 = combinations(k-4,4-i)\n",
    "a = c1 * c2\n",
    "print (c1,c2, a)"
   ]
  },
  {
   "cell_type": "code",
   "execution_count": 81,
   "metadata": {},
   "outputs": [
    {
     "name": "stdout",
     "output_type": "stream",
     "text": [
      "6 1128 6768\n"
     ]
    }
   ],
   "source": [
    "i = 2\n",
    "c1 = combinations(4,i)\n",
    "c2 = combinations(k-4,4-i)\n",
    "b = c1 * c2\n",
    "print (c1,c2, b)"
   ]
  },
  {
   "cell_type": "code",
   "execution_count": 82,
   "metadata": {},
   "outputs": [
    {
     "name": "stdout",
     "output_type": "stream",
     "text": [
      "4 48 192\n"
     ]
    }
   ],
   "source": [
    "i = 3\n",
    "c1 = combinations(4,i)\n",
    "c2 = combinations(k-4,4-i)\n",
    "c = c1 * c2\n",
    "print (c1,c2, c)"
   ]
  },
  {
   "cell_type": "code",
   "execution_count": 83,
   "metadata": {},
   "outputs": [
    {
     "name": "stdout",
     "output_type": "stream",
     "text": [
      "1 1 1\n"
     ]
    }
   ],
   "source": [
    "i = 4\n",
    "c1 = combinations(4,i)\n",
    "c2 = combinations(k-4,4-i)\n",
    "d = c1 * c2\n",
    "print (c1,c2, d)"
   ]
  },
  {
   "cell_type": "code",
   "execution_count": 84,
   "metadata": {},
   "outputs": [
    {
     "name": "stdout",
     "output_type": "stream",
     "text": [
      "ОТВЕТ: 76145\n"
     ]
    }
   ],
   "source": [
    "print('ОТВЕТ:', a+b+c+d)"
   ]
  },
  {
   "cell_type": "markdown",
   "metadata": {},
   "source": [
    "### Задача 2\n",
    "\n",
    "Семь человек рассаживаются наудачу на скамейке. Какова вероятность того, что рядом будут сидеть: \n",
    "- а) два определённых человека? \n",
    "- б) три определённых человека?"
   ]
  },
  {
   "cell_type": "code",
   "execution_count": 86,
   "metadata": {},
   "outputs": [],
   "source": [
    "def arrangements(n: int, k: int) -> int:\n",
    "    \"\"\"Число размещений.\n",
    "    \"\"\"\n",
    "    \n",
    "    return np.math.factorial(n) // np.math.factorial(n - k)"
   ]
  },
  {
   "cell_type": "markdown",
   "metadata": {},
   "source": [
    "### РЕШЕНИЕ\n",
    "P = m/n\n",
    "\n",
    "k - число людей, рассаживающихся наудачу на скамейке\n"
   ]
  },
  {
   "cell_type": "markdown",
   "metadata": {},
   "source": [
    "### РЕШЕНИЕ для случая а)\n",
    "#### шаг 1:\n",
    "Найдем вероятность события, что\n",
    "один из пары сядет на крайнее место(А), а второй сядет рядом(В)."
   ]
  },
  {
   "cell_type": "markdown",
   "metadata": {},
   "source": [
    "Первый сядет  на крайнее место с вероятностью Р(А)=2/k,\n",
    "а второй сядет рядом с вероятностью  Р(В)=1/(k-1),\n",
    "т.к. всего для него осталось 6 мест и только 1 рядом."
   ]
  },
  {
   "cell_type": "code",
   "execution_count": 118,
   "metadata": {},
   "outputs": [
    {
     "name": "stdout",
     "output_type": "stream",
     "text": [
      "0.2857142857142857 0.16666666666666666\n"
     ]
    }
   ],
   "source": [
    "PA = 2/k\n",
    "PB = 1/(k-1)\n",
    "print(PA,PB)"
   ]
  },
  {
   "cell_type": "markdown",
   "metadata": {},
   "source": [
    "#### шаг 2:\n",
    "Найдем вероятность события, что\n",
    "один из пары сядет не на крайнее место(D), а второй сядет рядом(E)."
   ]
  },
  {
   "cell_type": "markdown",
   "metadata": {},
   "source": [
    "Первый сядет не на крайнее место с вероятностью Р(D)=(k-2)/k,\n",
    "а второй сядет рядом с вероятностью  Р(E)=2/(k-1),(6 мест осталось, из них 2 рядом)."
   ]
  },
  {
   "cell_type": "code",
   "execution_count": 120,
   "metadata": {},
   "outputs": [
    {
     "name": "stdout",
     "output_type": "stream",
     "text": [
      "0.7142857142857143 0.3333333333333333\n"
     ]
    }
   ],
   "source": [
    "PD = (k-2)/k\n",
    "PE = 2/(k-1)\n",
    "print(PD,PE)"
   ]
  },
  {
   "cell_type": "code",
   "execution_count": 121,
   "metadata": {},
   "outputs": [
    {
     "name": "stdout",
     "output_type": "stream",
     "text": [
      "ОТВЕТ: 0.2857142857142857\n"
     ]
    }
   ],
   "source": [
    "#искомая вероятность P будет найдена по формуле\n",
    "P = PA*PB + PD*PE\n",
    "print(\"ОТВЕТ:\", P)"
   ]
  },
  {
   "cell_type": "markdown",
   "metadata": {},
   "source": [
    "#### РЕШЕНИЕ КОМБИНАТОРНО для случая а)"
   ]
  },
  {
   "cell_type": "code",
   "execution_count": 123,
   "metadata": {},
   "outputs": [
    {
     "data": {
      "text/plain": [
       "5040"
      ]
     },
     "execution_count": 123,
     "metadata": {},
     "output_type": "execute_result"
    }
   ],
   "source": [
    "#найдем число перестановок из n элементов -- это общее число вариантов рассадки людей\n",
    "k=7\n",
    "a7 =  arrangements(k,k) #идентично выражению np.math.factorial(k)\n",
    "a7"
   ]
  },
  {
   "cell_type": "markdown",
   "metadata": {},
   "source": [
    "Если он сядет на крайнее место,\n",
    "то второй может сесть 1-м способом (если край левый, то справа, а если правый - то слева).\n",
    "Если первый сядет на  место со 2-го по 6-е, то второй человек может сеcть\n",
    "двумя способами - либо справа либо слева.  \n",
    "\n",
    "Поэтому всего способов сесть второму рядом с первым 2 + 5*2 = 12.\n",
    "И на каждый из этих вариантов  остальные 5 объектов могут сесть 5!\n",
    "способами на оставшиеся 5 мест."
   ]
  },
  {
   "cell_type": "code",
   "execution_count": 128,
   "metadata": {},
   "outputs": [
    {
     "data": {
      "text/plain": [
       "0.2857142857142857"
      ]
     },
     "execution_count": 128,
     "metadata": {},
     "output_type": "execute_result"
    }
   ],
   "source": [
    "P = (2+(k-2)*2)*np.math.factorial(k-2)/a7\n",
    "P"
   ]
  },
  {
   "cell_type": "markdown",
   "metadata": {},
   "source": [
    "### РЕШЕНИЕ случаев а) и б)  через наглядную визуализацию на схеме"
   ]
  },
  {
   "cell_type": "code",
   "execution_count": 124,
   "metadata": {},
   "outputs": [
    {
     "name": "stdout",
     "output_type": "stream",
     "text": [
      "42 210\n"
     ]
    }
   ],
   "source": [
    "#найдем число возможных размещений из двух и из трех человек соответственно\n",
    "k=7\n",
    "a2 = arrangements(k,2)\n",
    "a3 = arrangements(k,3)\n",
    "print (a2,a3)"
   ]
  },
  {
   "cell_type": "markdown",
   "metadata": {},
   "source": [
    "xxooooo\n",
    "oxxoooo\n",
    "ooxxooo\n",
    "oooxxoo\n",
    "ooooxxo\n",
    "oooooxx\n",
    "или (k-1) = 6 благоприятных исходов. Но с учетом перестановок в рамках сочетания надо домножить на 2!\n",
    "Итого: (k-1)*2!\n",
    "    \n",
    "xxxoooo\n",
    "oxxxooo\n",
    "ooxxxoo\n",
    "oooxxxo\n",
    "ooooxxx\n",
    "или (k-2) = 5 благоприятных исходов. Но с учетом перестановок в рамках сочетания надо домножить на 3!\n",
    "Итого: (k-2)*3!\n",
    "    \n",
    "разделив кол-во благоприятных исходов на соответствующее число возможных размещений, мы должны получить искомые вероятности"
   ]
  },
  {
   "cell_type": "code",
   "execution_count": 131,
   "metadata": {},
   "outputs": [
    {
     "name": "stdout",
     "output_type": "stream",
     "text": [
      "для двух рядом (P2) =  0.2857142857142857\n",
      "для трех рядом (P3) =  0.14285714285714285\n"
     ]
    }
   ],
   "source": [
    "P2 = (k-1)*np.math.factorial(2) / a2\n",
    "P3 = (k-2)*np.math.factorial(3) / a3\n",
    "print(\"для двух рядом (P2) = \", P2)\n",
    "print(\"для трех рядом (P3) = \", P3)"
   ]
  },
  {
   "cell_type": "markdown",
   "metadata": {},
   "source": [
    "### Задача 4\n",
    "\n",
    "Бросается игральная кость. Пусть событие A - появление чётного числа, событие B - появление числа больше трёх. Являются ли эти события независимыми?"
   ]
  },
  {
   "cell_type": "markdown",
   "metadata": {},
   "source": [
    "#### ОТВЕТ: \n",
    "согласно определения, События  𝐴  и  𝐵  называются независимыми, если  𝑃(𝐴|𝐵)=𝑃(𝐴) , т.е. если наступление события  𝐵  не влияет на вероятность события  𝐴 , и наоборот.\n",
    "\n",
    "- P(A) = 1/6 + 1/6 + 1/6 = 3/6 = 1/2\n",
    "- P(B) = 1/6 + 1/6 + 1/6 = 3/6 = 1/2\n",
    "- 𝑃(𝐴|𝐵) = P(AB)/P(B) = 1/2 * 1/2 / (1/2) = 1/4 / 1/2 = 2/4 = 1/2\n",
    "\n",
    "согласно расчетам, события являются независимыми"
   ]
  },
  {
   "cell_type": "markdown",
   "metadata": {},
   "source": [
    "ПРЕПОДАВАТЕЛЬ:\n",
    "    Добрый день) Верно всё кроме задания 4) Вы в процессе решения используете формулу P(AB) = P(A) * P(B), однако, эта формула верна только для независимых событий) а это именно то, что вы пытаетесь доказать, т.е. этого вам не дано, так что формулу использовать нельзя) Мы завтра на занятии разберём домашку и обсудим всё это)"
   ]
  },
  {
   "cell_type": "markdown",
   "metadata": {},
   "source": [
    "### Задача 3\n",
    "\n",
    "Из 60 вопросов, входящих в экзаменационные билеты, студент знает 50. Какова вероятность того, что среди трёх наугад выбранных вопросов студент знает: а) все? б) два?"
   ]
  },
  {
   "cell_type": "markdown",
   "metadata": {},
   "source": [
    "### РЕШЕНИЕ:\n",
    "Вероятность будет рассчитываться по формуле P = m/n"
   ]
  },
  {
   "cell_type": "code",
   "execution_count": 135,
   "metadata": {},
   "outputs": [
    {
     "data": {
      "text/plain": [
       "34220"
      ]
     },
     "execution_count": 135,
     "metadata": {},
     "output_type": "execute_result"
    }
   ],
   "source": [
    "#найдем общее число сочетаний\n",
    "n = combinations(60,3)\n",
    "n"
   ]
  },
  {
   "cell_type": "code",
   "execution_count": 136,
   "metadata": {},
   "outputs": [
    {
     "data": {
      "text/plain": [
       "19600"
      ]
     },
     "execution_count": 136,
     "metadata": {},
     "output_type": "execute_result"
    }
   ],
   "source": [
    "# для случая, когда знает 3 билета\n",
    "m = combinations(50,3)\n",
    "m"
   ]
  },
  {
   "cell_type": "code",
   "execution_count": 138,
   "metadata": {},
   "outputs": [
    {
     "name": "stdout",
     "output_type": "stream",
     "text": [
      "вероятность того, что знает 3 = 0.5727644652250146\n"
     ]
    }
   ],
   "source": [
    "P3 = m/n\n",
    "print(\"вероятность того, что знает три =\",P3)"
   ]
  },
  {
   "cell_type": "code",
   "execution_count": 141,
   "metadata": {},
   "outputs": [
    {
     "data": {
      "text/plain": [
       "12250"
      ]
     },
     "execution_count": 141,
     "metadata": {},
     "output_type": "execute_result"
    }
   ],
   "source": [
    "# для случая, когда знает 2 билета и еще 1 билет не знает\n",
    "m = combinations(50,2)*combinations(10,1)\n",
    "m"
   ]
  },
  {
   "cell_type": "code",
   "execution_count": 142,
   "metadata": {},
   "outputs": [
    {
     "name": "stdout",
     "output_type": "stream",
     "text": [
      "вероятность того, что знает два = 0.35797779076563413\n"
     ]
    }
   ],
   "source": [
    "P2 = m/n\n",
    "print(\"вероятность того, что знает два =\",P2)"
   ]
  },
  {
   "cell_type": "markdown",
   "metadata": {},
   "source": [
    "### Задача 5\n",
    "\n",
    "Допустим, имеется некоторая очень редкая болезнь (поражает 0.1% населения). Вы приходите к врачу, вам делают тест на эту болезнь, и тест оказывается положительным. Врач говорит вам, что этот тест верно выявляет 99% больных этой болезнью и всего лишь в 1% случаев даёт ложный положительный ответ.\n",
    "\n",
    "Вопрос: какова вероятность, что вы действительно больны ей?\n",
    "\n",
    "Подсказка: вновь используйте формулу Байеса с раскрытием знаменателя с помощью формулы полной вероятности."
   ]
  },
  {
   "cell_type": "markdown",
   "metadata": {},
   "source": [
    "РЕШЕНИЕ"
   ]
  },
  {
   "cell_type": "markdown",
   "metadata": {},
   "source": [
    "пусть А -- человек заболел, B -- тест дал положительный результат\n",
    "\n",
    "тогда формула Байеса:\n",
    "$$P(A|B) = \\dfrac{P(B|A) \\cdot P(A)}{P(B)}$$\n",
    "P(B) можно разложить по формуле полной вероятности"
   ]
  },
  {
   "cell_type": "code",
   "execution_count": 145,
   "metadata": {},
   "outputs": [
    {
     "data": {
      "text/plain": [
       "0.09016393442622951"
      ]
     },
     "execution_count": 145,
     "metadata": {},
     "output_type": "execute_result"
    }
   ],
   "source": [
    "P = 0.99*0.001/(0.99*0.001+0.01*0.999)\n",
    "P"
   ]
  },
  {
   "cell_type": "code",
   "execution_count": null,
   "metadata": {},
   "outputs": [],
   "source": []
  }
 ],
 "metadata": {
  "kernelspec": {
   "display_name": "Python 3",
   "language": "python",
   "name": "python3"
  },
  "language_info": {
   "codemirror_mode": {
    "name": "ipython",
    "version": 3
   },
   "file_extension": ".py",
   "mimetype": "text/x-python",
   "name": "python",
   "nbconvert_exporter": "python",
   "pygments_lexer": "ipython3",
   "version": "3.7.4"
  }
 },
 "nbformat": 4,
 "nbformat_minor": 2
}
