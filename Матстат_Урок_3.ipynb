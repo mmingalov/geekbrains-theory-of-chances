{
  "nbformat": 4,
  "nbformat_minor": 0,
  "metadata": {
    "colab": {
      "name": "Матстат - Урок 3.ipynb",
      "provenance": []
    },
    "kernelspec": {
      "display_name": "Python 3",
      "language": "python",
      "name": "python3"
    }
  },
  "cells": [
    {
      "cell_type": "markdown",
      "metadata": {
        "id": "snzQ6I-GNKuz",
        "colab_type": "text"
      },
      "source": [
        "## Урок 3"
      ]
    },
    {
      "cell_type": "markdown",
      "metadata": {
        "id": "AbhQJaRUNKu7",
        "colab_type": "text"
      },
      "source": [
        "### Описательная статистика. Качественные и количественные характеристики популяции. \n",
        "\n",
        "### Графическое представление данных"
      ]
    },
    {
      "cell_type": "markdown",
      "metadata": {
        "id": "eoIjKvLSNKu-",
        "colab_type": "text"
      },
      "source": [
        "Рассмотрим описательные статистические характеристики на примере датасета с данными по хоккеистам.\n",
        "\n",
        "Воспользуемся данными, приведенными в статье \n",
        "<a href='https://habr.com/post/301340/'>«Рост хоккеистов: анализируем данные всех чемпионатов мира в текущем веке»</a>.\n",
        "\n",
        "Импортируем библиотеки и загрузим данные:"
      ]
    },
    {
      "cell_type": "code",
      "metadata": {
        "id": "MPDgZjuQNKvB",
        "colab_type": "code",
        "colab": {}
      },
      "source": [
        "import numpy as np\n",
        "import pandas as pd\n",
        "import matplotlib.pyplot as plt\n",
        "import warnings\n",
        "warnings.filterwarnings('ignore')"
      ],
      "execution_count": 0,
      "outputs": []
    },
    {
      "cell_type": "code",
      "metadata": {
        "id": "MM9S4bbbNKvO",
        "colab_type": "code",
        "colab": {}
      },
      "source": [
        "df = pd.read_csv('csv/hockey_players.csv', encoding='cp1251', parse_dates=['birth'])"
      ],
      "execution_count": 0,
      "outputs": []
    },
    {
      "cell_type": "markdown",
      "metadata": {
        "collapsed": true,
        "id": "pIK_WLKxNKvU",
        "colab_type": "text"
      },
      "source": [
        "Удалим дубликаты:"
      ]
    },
    {
      "cell_type": "code",
      "metadata": {
        "id": "z6-tGI8sNKvX",
        "colab_type": "code",
        "colab": {}
      },
      "source": [
        "df = df.drop_duplicates(['name', 'birth'])"
      ],
      "execution_count": 0,
      "outputs": []
    },
    {
      "cell_type": "markdown",
      "metadata": {
        "collapsed": true,
        "id": "XHQWUbRsNKvh",
        "colab_type": "text"
      },
      "source": [
        "Данный датасет мог бы считаться **генеральной совокупностью**, если бы он содержал данные обо всех хоккеистах, \n",
        "\n",
        "соответствующих определенным характеристикам."
      ]
    },
    {
      "cell_type": "markdown",
      "metadata": {
        "id": "rnJWY6-KNKvj",
        "colab_type": "text"
      },
      "source": [
        "Если мы выберем случайным образом определенное количество примеров (наблюдений), такое множество можно называть выборкой.\n",
        "\n",
        "**Выборка** — это случайным образом выбранная часть генеральной совокупности."
      ]
    },
    {
      "cell_type": "markdown",
      "metadata": {
        "id": "4rM_9Cz_NKvm",
        "colab_type": "text"
      },
      "source": [
        "Одно из основных понятий в теории вероятностей — **математическое ожидание**. Обозначается как $M(X)$ (в статистике принято обозначение $\\mu$).\n",
        "\n",
        "Математическое ожидание — среднее значение случайной величины (распределение вероятностей стационарной случайной величины) при стремлении количества выборок или количества измерений (иногда говорят — количества испытаний) к бесконечности."
      ]
    },
    {
      "cell_type": "markdown",
      "metadata": {
        "id": "GsitNS2_NKvp",
        "colab_type": "text"
      },
      "source": [
        "Среднее арифметическое одномерной случайной величины конечного числа испытаний обычно называют оценкой математического ожидания. При стремлении числа испытаний стационарного случайного процесса к бесконечности оценка математического ожидания стремится к математическому ожиданию."
      ]
    },
    {
      "cell_type": "markdown",
      "metadata": {
        "id": "v9b2wxzGNKvu",
        "colab_type": "text"
      },
      "source": [
        "Найдем среднее значение роста хоккеистов из датасета по формуле:"
      ]
    },
    {
      "cell_type": "markdown",
      "metadata": {
        "id": "xvSB9hufNKvw",
        "colab_type": "text"
      },
      "source": [
        "$$M(X) = \\frac{1}{n} \\sum\\limits_{i=1}^{n} x_i$$"
      ]
    },
    {
      "cell_type": "markdown",
      "metadata": {
        "id": "MJ0J2HMTNKvy",
        "colab_type": "text"
      },
      "source": [
        "где $x$ — рост, $n$ — количество наблюдений."
      ]
    },
    {
      "cell_type": "code",
      "metadata": {
        "id": "8yLDxwZINKv0",
        "colab_type": "code",
        "outputId": "0155a822-b490-4a6b-e2f7-1f541b92c7a2",
        "colab": {}
      },
      "source": [
        "mean_height = df['height'].sum() / df['height'].count()\n",
        "mean_height"
      ],
      "execution_count": 0,
      "outputs": [
        {
          "output_type": "execute_result",
          "data": {
            "text/plain": [
              "183.82938676381301"
            ]
          },
          "metadata": {
            "tags": []
          },
          "execution_count": 6
        }
      ]
    },
    {
      "cell_type": "markdown",
      "metadata": {
        "id": "apehcU5jNKwF",
        "colab_type": "text"
      },
      "source": [
        "Найдем эту же величину с помощью метода **mean**:"
      ]
    },
    {
      "cell_type": "code",
      "metadata": {
        "id": "4tPnNQLtNKwJ",
        "colab_type": "code",
        "outputId": "ac803f70-298f-420a-9402-0f40fc385e52",
        "colab": {}
      },
      "source": [
        "df['height'].mean()"
      ],
      "execution_count": 0,
      "outputs": [
        {
          "output_type": "execute_result",
          "data": {
            "text/plain": [
              "183.829386763813"
            ]
          },
          "metadata": {
            "tags": []
          },
          "execution_count": 7
        }
      ]
    },
    {
      "cell_type": "markdown",
      "metadata": {
        "id": "3gX4sPrGNKwU",
        "colab_type": "text"
      },
      "source": [
        "Полученные значения равны (отличается только количество знаков после запятой). Такая оценка математического ожидания называется несмещенной.\n",
        "\n",
        "Другим важным показателем выборки является **среднее квадратичное отклонение**. Оно показывает, насколько далеко наблюдения могут быть «разбросаны» относительно среднего значения.\n",
        "\n",
        "Вычислить его можно по формуле:"
      ]
    },
    {
      "cell_type": "markdown",
      "metadata": {
        "id": "JwStBGB4NKwX",
        "colab_type": "text"
      },
      "source": [
        "$$\\sigma = \\sqrt{\\frac{\\sum\\limits_{i=1}^{n} (x_i - \\overline{x})^2}{n}}$$"
      ]
    },
    {
      "cell_type": "markdown",
      "metadata": {
        "id": "fu2lLu41NKwY",
        "colab_type": "text"
      },
      "source": [
        "Посчитаем среднее квадратичное отклонение роста хоккеистов:"
      ]
    },
    {
      "cell_type": "code",
      "metadata": {
        "id": "-iwdVe-hNKwe",
        "colab_type": "code",
        "outputId": "cee32cc3-f0fc-46c6-f107-04db37e290e1",
        "colab": {}
      },
      "source": [
        "height_std = np.sqrt(((df['height'] - df['height'].mean())**2).sum() / df['height'].count())\n",
        "height_std"
      ],
      "execution_count": 0,
      "outputs": [
        {
          "output_type": "execute_result",
          "data": {
            "text/plain": [
              "5.4667987056242602"
            ]
          },
          "metadata": {
            "tags": []
          },
          "execution_count": 18
        }
      ]
    },
    {
      "cell_type": "markdown",
      "metadata": {
        "id": "PcpU5rPFNKwm",
        "colab_type": "text"
      },
      "source": [
        "Посчитаем еще раз среднее квадратичное отклонение, но уже с помощью метода **std**:"
      ]
    },
    {
      "cell_type": "code",
      "metadata": {
        "id": "3FvEacT6NKwo",
        "colab_type": "code",
        "outputId": "9b2e88aa-63a2-4ca0-9dae-aa88bd688c14",
        "colab": {}
      },
      "source": [
        "df['height'].std(ddof=0)"
      ],
      "execution_count": 0,
      "outputs": [
        {
          "output_type": "execute_result",
          "data": {
            "text/plain": [
              "5.466798705624277"
            ]
          },
          "metadata": {
            "tags": []
          },
          "execution_count": 27
        }
      ]
    },
    {
      "cell_type": "markdown",
      "metadata": {
        "id": "yzTtgYY0NKwz",
        "colab_type": "text"
      },
      "source": [
        "**Дисперсия** равна среднему квадратичному отклонению, возведенному в квадрат:"
      ]
    },
    {
      "cell_type": "markdown",
      "metadata": {
        "id": "ymzeeF4QNKw1",
        "colab_type": "text"
      },
      "source": [
        "$$\\sigma^2 = \\frac{\\sum\\limits_{i=1}^{n} (x_i - \\overline{x})^2}{n}$$"
      ]
    },
    {
      "cell_type": "markdown",
      "metadata": {
        "id": "XTwVZI76NKw3",
        "colab_type": "text"
      },
      "source": [
        "Посчитаем дисперсию роста хоккеистов:"
      ]
    },
    {
      "cell_type": "code",
      "metadata": {
        "id": "jNZh3cbjNKw6",
        "colab_type": "code",
        "outputId": "c0047472-442e-4426-c936-d542c79b2084",
        "colab": {}
      },
      "source": [
        "height_variance = ((df['height'] - df['height'].mean())**2).sum() / df['height'].count()\n",
        "height_variance"
      ],
      "execution_count": 0,
      "outputs": [
        {
          "output_type": "execute_result",
          "data": {
            "text/plain": [
              "29.885888087815086"
            ]
          },
          "metadata": {
            "tags": []
          },
          "execution_count": 15
        }
      ]
    },
    {
      "cell_type": "markdown",
      "metadata": {
        "id": "fCHu_z21NKxG",
        "colab_type": "text"
      },
      "source": [
        "Такая оценка дисперсии является **смещенной**. Следующая формула показывает, как вычисляется **несмещенная оценка дисперсии**:"
      ]
    },
    {
      "cell_type": "markdown",
      "metadata": {
        "id": "yeHRCSngNKxH",
        "colab_type": "text"
      },
      "source": [
        "$$\\sigma^2_{несмещ.} = \\frac{\\sum\\limits_{i=1}^{n} (x_i - \\overline{x})^2}{n - 1}$$"
      ]
    },
    {
      "cell_type": "markdown",
      "metadata": {
        "id": "QTIjmFNyNKxM",
        "colab_type": "text"
      },
      "source": [
        "Отличие несмещенной оценки дисперсии от смещенной в том, что мы делим сумму квадратов разностей всех величин со средним значением не на $n$, а на $n - 1$.\n",
        "\n",
        "Рассчитаем несмещенную дисперсию роста хоккеистов:"
      ]
    },
    {
      "cell_type": "code",
      "metadata": {
        "id": "WyB-XRAeNKxQ",
        "colab_type": "code",
        "outputId": "c3941a40-3ecc-456c-d978-5ae43d93be66",
        "colab": {}
      },
      "source": [
        "height_variance2 = ((df['height'] - df['height'].mean())**2).sum() / (df['height'].count() - 1)\n",
        "height_variance2"
      ],
      "execution_count": 0,
      "outputs": [
        {
          "output_type": "execute_result",
          "data": {
            "text/plain": [
              "29.894963668770998"
            ]
          },
          "metadata": {
            "tags": []
          },
          "execution_count": 16
        }
      ]
    },
    {
      "cell_type": "markdown",
      "metadata": {
        "id": "cscW2xopNKxi",
        "colab_type": "text"
      },
      "source": [
        "С помощью метода **var** можно посчитать смещенную оценку дисперсии:"
      ]
    },
    {
      "cell_type": "code",
      "metadata": {
        "id": "RdNP_457NKxk",
        "colab_type": "code",
        "outputId": "189e7202-ff79-414b-8699-68f508bf4140",
        "colab": {}
      },
      "source": [
        "df['height'].var(ddof=0)"
      ],
      "execution_count": 0,
      "outputs": [
        {
          "output_type": "execute_result",
          "data": {
            "text/plain": [
              "29.885888087815268"
            ]
          },
          "metadata": {
            "tags": []
          },
          "execution_count": 24
        }
      ]
    },
    {
      "cell_type": "markdown",
      "metadata": {
        "id": "TJ_GG2LDNKx0",
        "colab_type": "text"
      },
      "source": [
        "Несмещенная считается аналогично:"
      ]
    },
    {
      "cell_type": "code",
      "metadata": {
        "id": "oLdDIWUaNKx2",
        "colab_type": "code",
        "outputId": "380d8ebb-b749-45c9-ac02-9b56296a5c46",
        "colab": {}
      },
      "source": [
        "df['height'].var(ddof=1)"
      ],
      "execution_count": 0,
      "outputs": [
        {
          "output_type": "execute_result",
          "data": {
            "text/plain": [
              "29.89496366877118"
            ]
          },
          "metadata": {
            "tags": []
          },
          "execution_count": 29
        }
      ]
    },
    {
      "cell_type": "markdown",
      "metadata": {
        "id": "HGAvSJ_mNKx-",
        "colab_type": "text"
      },
      "source": [
        "Аргумент **ddof** (Delta Degrees of Freedom) показывает, какую величину нужно отнять от числа наблюдений $n$, которое находится в формуле дисперсии в делителе."
      ]
    },
    {
      "cell_type": "markdown",
      "metadata": {
        "id": "NYuwpwm7NKx_",
        "colab_type": "text"
      },
      "source": [
        "**Мода** — наиболее часто встречающееся в выборке значение. Для дискретных распределений модой считают любое значение $a_i$, вероятность которого $p_i$ больше, чем вероятности соседних значений.\n",
        "\n",
        "Если в выборке есть два и более значений, встречающихся с одинаковой (максимальной) вероятностью, то есть выборка имеет две и более мод, то ее называют **мультимодальной**.\n",
        "\n",
        "Модой абсолютно непрерывного распределения называют любую точку локального максимума плотности распределения."
      ]
    },
    {
      "cell_type": "markdown",
      "metadata": {
        "id": "4H1MmQ8sNKyD",
        "colab_type": "text"
      },
      "source": [
        "**Медиана** — значение, которое делит выборку на две части так, что значения, которые меньше медианы, составляют половину (50 %) выборки. То есть половина значений выборки больше медианы, половина — не больше."
      ]
    },
    {
      "cell_type": "markdown",
      "metadata": {
        "id": "B228LLFLNKyG",
        "colab_type": "text"
      },
      "source": [
        "**Первый квартиль** — значение, которое не превышают 25 % наблюдений в выборке."
      ]
    },
    {
      "cell_type": "markdown",
      "metadata": {
        "id": "UARYcGAwNKyH",
        "colab_type": "text"
      },
      "source": [
        "**Второй квартиль** — синоним медианы."
      ]
    },
    {
      "cell_type": "markdown",
      "metadata": {
        "id": "6BUr0mcaNKyJ",
        "colab_type": "text"
      },
      "source": [
        "**Третий квартиль** — значение, которое не превышают 75 % наблюдений в выборке."
      ]
    },
    {
      "cell_type": "markdown",
      "metadata": {
        "id": "X7bErti9NKyM",
        "colab_type": "text"
      },
      "source": [
        "**Квантиль** — похожее понятие, только в качестве точки может выступать любая величина от 0 до 100 %.\n",
        "\n",
        "Например, 40 % квантиль — значение, которое не превышают 40 % наблюдений."
      ]
    },
    {
      "cell_type": "markdown",
      "metadata": {
        "id": "arCPKh6VNKyT",
        "colab_type": "text"
      },
      "source": [
        "**Перцентиль** — частный случай квантиля, в качестве меры берутся целые проценты.\n",
        "\n",
        "Например, 40 % квантиль — то же, что и 40 % перцентиль."
      ]
    },
    {
      "cell_type": "markdown",
      "metadata": {
        "id": "q67sZzakNKyU",
        "colab_type": "text"
      },
      "source": [
        "**Дециль** — частный случай квантиля, в качестве меры берутся десятки процентов.\n",
        "\n",
        "Например, 70 % квантиль — это также и 7-й дециль."
      ]
    },
    {
      "cell_type": "markdown",
      "metadata": {
        "id": "lhcr7dkjNKyW",
        "colab_type": "text"
      },
      "source": [
        "**Интерквартильное расстояние** — отрезок, равный разности 3-й и 1-й квартили."
      ]
    },
    {
      "cell_type": "markdown",
      "metadata": {
        "id": "PNmx54fYNKyY",
        "colab_type": "text"
      },
      "source": [
        "##### Графическое представление данных"
      ]
    },
    {
      "cell_type": "markdown",
      "metadata": {
        "collapsed": true,
        "id": "gR9QSn4MNKya",
        "colab_type": "text"
      },
      "source": [
        "Чтобы получить представление о распределении роста хоккеистов, построим гистограмму. По умолчанию данные разбиваются на 10 частей (аргумент **bins**). Высота столбиков соответствует количеству наблюдений в бине:"
      ]
    },
    {
      "cell_type": "code",
      "metadata": {
        "id": "iZHf2w0UNKyc",
        "colab_type": "code",
        "outputId": "5851d6b7-8da5-4ca6-8ea9-c93c665d563e",
        "colab": {}
      },
      "source": [
        "plt.hist(df['height'])\n",
        "plt.show()"
      ],
      "execution_count": 0,
      "outputs": [
        {
          "output_type": "display_data",
          "data": {
            "image/png": "[encoded data removed]",
            "text/plain": [
              "<matplotlib.figure.Figure at 0x879c140f98>"
            ]
          },
          "metadata": {
            "tags": []
          }
        }
      ]
    },
    {
      "cell_type": "markdown",
      "metadata": {
        "collapsed": true,
        "id": "KwJ_RM31NKyo",
        "colab_type": "text"
      },
      "source": [
        "Построим гистограмму еще раз, указав в качестве аргумента **bins** число 20, чтобы получить более детальную картину:"
      ]
    },
    {
      "cell_type": "code",
      "metadata": {
        "id": "kExdMvVdNKyp",
        "colab_type": "code",
        "outputId": "94e9842f-0170-49ab-93e8-e00ef8315aaa",
        "colab": {}
      },
      "source": [
        "plt.hist(df['height'], bins = 20)\n",
        "plt.show()"
      ],
      "execution_count": 0,
      "outputs": [
        {
          "output_type": "display_data",
          "data": {
            "image/png": "[encoded data removed]",
            "text/plain": [
              "<matplotlib.figure.Figure at 0x879cb46208>"
            ]
          },
          "metadata": {
            "tags": []
          }
        }
      ]
    },
    {
      "cell_type": "markdown",
      "metadata": {
        "collapsed": true,
        "id": "2P5DpOZTNKyw",
        "colab_type": "text"
      },
      "source": [
        "Другой способ графически представить данные — построить диаграмму **boxplot**. Для этого импортируем библиотеку **seaborn**:"
      ]
    },
    {
      "cell_type": "code",
      "metadata": {
        "id": "7xl_WqYGNKy0",
        "colab_type": "code",
        "colab": {}
      },
      "source": [
        "import seaborn as sns"
      ],
      "execution_count": 0,
      "outputs": []
    },
    {
      "cell_type": "code",
      "metadata": {
        "id": "K8Xx4JX-NKy6",
        "colab_type": "code",
        "outputId": "adea1a7f-b8f9-4207-9340-4108312d4b23",
        "colab": {}
      },
      "source": [
        "sns.boxplot(df['height'], orient='v')\n",
        "plt.show()"
      ],
      "execution_count": 0,
      "outputs": [
        {
          "output_type": "display_data",
          "data": {
            "image/png": "[encoded data removed]",
            "text/plain": [
              "<matplotlib.figure.Figure at 0x879ef3cc18>"
            ]
          },
          "metadata": {
            "tags": []
          }
        }
      ]
    },
    {
      "cell_type": "markdown",
      "metadata": {
        "collapsed": true,
        "id": "rr6BpnOFNKzB",
        "colab_type": "text"
      },
      "source": [
        "На данном графике показатели роста располагаются по вертикали. Черта в середине прямоугольника обозначает медиану, его нижняя сторона — 1-й квартиль, а верхняя — 3-й квартиль."
      ]
    },
    {
      "cell_type": "markdown",
      "metadata": {
        "collapsed": true,
        "id": "NRDf8FSYNKzH",
        "colab_type": "text"
      },
      "source": [
        "От прямоугольника вверх и вниз отходят «усики». Черта на конце нижнего усика отстоит от 1-го квартиля на 1.5 квартильных расстояния, а на конце верхнего — на 1.5 квартильных расстояния от 3-го квартиля."
      ]
    },
    {
      "cell_type": "markdown",
      "metadata": {
        "collapsed": true,
        "id": "n1ZeOMTfNKzJ",
        "colab_type": "text"
      },
      "source": [
        "Точки, находящиеся за их пределами, обозначают выбросы в данных — нетипичные наблюдения, которые могут быть и ошибками."
      ]
    },
    {
      "cell_type": "code",
      "metadata": {
        "id": "OIi4HbRwNKzM",
        "colab_type": "code",
        "colab": {}
      },
      "source": [
        ""
      ],
      "execution_count": 0,
      "outputs": []
    }
  ]
}