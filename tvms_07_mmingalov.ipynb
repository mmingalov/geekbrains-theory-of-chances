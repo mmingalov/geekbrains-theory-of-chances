{
 "cells": [
  {
   "cell_type": "code",
   "execution_count": 64,
   "metadata": {},
   "outputs": [],
   "source": [
    "import numpy as np\n",
    "import pandas as pd\n",
    "from matplotlib import pyplot as plt\n",
    "from mpl_toolkits.mplot3d import Axes3D\n",
    "from scipy import stats\n",
    "\n",
    "plt.style.use('seaborn-whitegrid')"
   ]
  },
  {
   "cell_type": "markdown",
   "metadata": {},
   "source": [
    "### Задача 1\n",
    "\n",
    "Даны значения величины заработной платы заемщиков банка (salary) и значения их поведенческого кредитного скоринга (scoring):\n",
    "\n",
    "salary = [35, 45, 190, 200, 40, 70, 54, 150, 120, 110] <br>\n",
    "scoring = [401, 574, 874, 919, 459, 739, 653, 902, 746, 832]\n",
    "\n",
    "Возьмём в качестве признака значение salary, а в качестве целевой переменной - scoring.\n",
    "\n",
    "- Найдите коэффициенты линейной регрессии с помощью формул для парной регрессии, а затем с помощью метода наименьших квадратов.\n",
    "- Постройте scatter plot по данным и отметьте на нём прямую линейной регрессии, полученную в п. 1.\n",
    "- Посчитайте коэффициент детерминации, среднюю ошибку аппроксимации.\n",
    "- Оцените построенное уравнение регрессии с помощью F-критерия Фишера.\n",
    "- Постройте для коэффициентов регрессии доверительные интервалы с помощью t-статистики Стьюдента.\n",
    "\n",
    "### Решение"
   ]
  },
  {
   "cell_type": "code",
   "execution_count": 65,
   "metadata": {},
   "outputs": [],
   "source": [
    "salary = [35, 45, 190, 200, 40, 70, 54, 150, 120, 110]\n",
    "scoring = [401, 574, 874, 919, 459, 739, 653, 902, 746, 832]"
   ]
  },
  {
   "cell_type": "code",
   "execution_count": 66,
   "metadata": {},
   "outputs": [],
   "source": [
    "x1 = np.array(salary)\n",
    "y1 = np.array(scoring)"
   ]
  },
  {
   "cell_type": "markdown",
   "metadata": {},
   "source": [
    "__Найдём коэффициенты линейной регрессии с помощью формул для парной регрессии:__"
   ]
  },
  {
   "cell_type": "code",
   "execution_count": 67,
   "metadata": {},
   "outputs": [
    {
     "data": {
      "text/plain": [
       "2.6205388824027653"
      ]
     },
     "execution_count": 67,
     "metadata": {},
     "output_type": "execute_result"
    }
   ],
   "source": [
    "b1 = np.cov(x1, y1, ddof=0)[0, 1] / np.var(x1, ddof=0) \n",
    "#Замечание. В данной формуле не нужно обязательно использовать смещённую или несмещённую оценку, \n",
    "#но важно, конечно, использовать один и тот же тип оценки и для ковариации, и для дисперсии.\n",
    "b1"
   ]
  },
  {
   "cell_type": "code",
   "execution_count": 68,
   "metadata": {},
   "outputs": [
    {
     "data": {
      "text/plain": [
       "444.17735732435955"
      ]
     },
     "execution_count": 68,
     "metadata": {},
     "output_type": "execute_result"
    }
   ],
   "source": [
    "b0 = y1.mean() - b1 * x1.mean()\n",
    "b0"
   ]
  },
  {
   "cell_type": "markdown",
   "metadata": {},
   "source": [
    "Итак, уравнение регрессии имеет вид (коэффициенты округлены до сотых):\n",
    "$$y = 444.18 + 2.62 \\cdot x$$\n",
    "т.е. с увеличением зарплаты на 1 условную единицу кредитный скоринг увеличивается на 2.62 ед"
   ]
  },
  {
   "cell_type": "markdown",
   "metadata": {},
   "source": [
    "__Найдём коэффициенты линейной регрессии с помощью МНК:__"
   ]
  },
  {
   "cell_type": "markdown",
   "metadata": {},
   "source": [
    "Для удобства записи введём дополнительный «фактор» x0 = 1. Поиск коэффициентов линейной регрессии сводится к решению системы линейных уравнений:\n",
    "$$y = X \\cdot b$$\n",
    "где b — столбец коэффициентов регрессии, X — матрица объект-признак, y — столбец\n",
    "целевой переменной.\n",
    "Чаще всего такая система не имеет решений, поэтому задача состоит в минимизации расстояния между векторами $X \\cdot b$ и $y$:\n",
    "$$(X \\cdot b - y)^\\top \\cdot (X \\cdot b - y) \\rightarrow \\min_b.$$\n",
    "Для такой задачи возможно записать аналитическое решение:\n",
    "$$b = (X^\\top X)^{-1} X^\\top y.$$"
   ]
  },
  {
   "cell_type": "code",
   "execution_count": 69,
   "metadata": {},
   "outputs": [
    {
     "data": {
      "text/plain": [
       "array([[401],\n",
       "       [574],\n",
       "       [874],\n",
       "       [919],\n",
       "       [459],\n",
       "       [739],\n",
       "       [653],\n",
       "       [902],\n",
       "       [746],\n",
       "       [832]])"
      ]
     },
     "execution_count": 69,
     "metadata": {},
     "output_type": "execute_result"
    }
   ],
   "source": [
    "x2 = x1.reshape(-1, 1)\n",
    "\n",
    "y2 = y1.reshape(-1, 1)\n",
    "y2"
   ]
  },
  {
   "cell_type": "markdown",
   "metadata": {},
   "source": [
    "К матрице  𝑋  (массив x2) нужно также добавить столбец из  1 , соответствующий фиктивному фактору."
   ]
  },
  {
   "cell_type": "code",
   "execution_count": 70,
   "metadata": {},
   "outputs": [
    {
     "data": {
      "text/plain": [
       "(10, 1)"
      ]
     },
     "execution_count": 70,
     "metadata": {},
     "output_type": "execute_result"
    }
   ],
   "source": [
    "x2.shape"
   ]
  },
  {
   "cell_type": "code",
   "execution_count": 71,
   "metadata": {},
   "outputs": [],
   "source": [
    "ones = np.ones((x2.shape[0], 1))\n",
    "x2 = np.hstack((ones, x2))"
   ]
  },
  {
   "cell_type": "code",
   "execution_count": 72,
   "metadata": {},
   "outputs": [
    {
     "data": {
      "text/plain": [
       "(10, 2)"
      ]
     },
     "execution_count": 72,
     "metadata": {},
     "output_type": "execute_result"
    }
   ],
   "source": [
    "x2.shape"
   ]
  },
  {
   "cell_type": "code",
   "execution_count": 73,
   "metadata": {},
   "outputs": [
    {
     "data": {
      "text/plain": [
       "array([[  1.,  35.],\n",
       "       [  1.,  45.],\n",
       "       [  1., 190.],\n",
       "       [  1., 200.],\n",
       "       [  1.,  40.],\n",
       "       [  1.,  70.],\n",
       "       [  1.,  54.],\n",
       "       [  1., 150.],\n",
       "       [  1., 120.],\n",
       "       [  1., 110.]])"
      ]
     },
     "execution_count": 73,
     "metadata": {},
     "output_type": "execute_result"
    }
   ],
   "source": [
    "x2"
   ]
  },
  {
   "cell_type": "markdown",
   "metadata": {},
   "source": [
    "Запишем матрицу  𝑋⊤𝑋  и посчитаем её определитель."
   ]
  },
  {
   "cell_type": "code",
   "execution_count": 74,
   "metadata": {},
   "outputs": [
    {
     "data": {
      "text/plain": [
       "349464.00000000023"
      ]
     },
     "execution_count": 74,
     "metadata": {},
     "output_type": "execute_result"
    }
   ],
   "source": [
    "XTX = x2.T.dot(x2)\n",
    "\n",
    "np.linalg.det(XTX)"
   ]
  },
  {
   "cell_type": "markdown",
   "metadata": {},
   "source": [
    "Определитель не близок к нулю, поэтому можно записать аналитическое решение:"
   ]
  },
  {
   "cell_type": "code",
   "execution_count": 75,
   "metadata": {},
   "outputs": [
    {
     "name": "stdout",
     "output_type": "stream",
     "text": [
      "[[444.17735732]\n",
      " [  2.62053888]]\n"
     ]
    }
   ],
   "source": [
    "XTX_inv = np.linalg.inv(XTX)\n",
    "\n",
    "b = XTX_inv.dot(x2.T).dot(y2)\n",
    "\n",
    "print(b)"
   ]
  },
  {
   "cell_type": "markdown",
   "metadata": {},
   "source": [
    "Модель линейной регрессии \n",
    "$$y = b_0 + b_1 x_1 + \\dots + b_k x_k$$\n",
    "называется __несмещённой__, если математические ожидания правой и левой части равны:\n",
    "$$M(y) = M(b_0 + b_1 x_1 + \\dots + b_k x_k)$$\n",
    "Как правило, несмещённые модели имеют лучшую _обобщающую способность_, чем смещённые, несмотря на то, что смещённые модели могут потенциально давать лучшие значения метрик качества (о них — чуть позже), чем несмещённые.\n",
    "\n",
    "Проверим несмещённость уравнения регрессии из предыдущего примера:"
   ]
  },
  {
   "cell_type": "code",
   "execution_count": 76,
   "metadata": {},
   "outputs": [
    {
     "data": {
      "text/plain": [
       "(709.8999999999999, 709.9)"
      ]
     },
     "execution_count": 76,
     "metadata": {},
     "output_type": "execute_result"
    }
   ],
   "source": [
    "x2.dot(b).mean(), y2.mean()"
   ]
  },
  {
   "cell_type": "markdown",
   "metadata": {},
   "source": [
    "__Постройте scatter plot по данным и отметьте на нём прямую линейной регрессии, полученную в п. 1.__"
   ]
  },
  {
   "cell_type": "code",
   "execution_count": 77,
   "metadata": {},
   "outputs": [
    {
     "data": {
      "image/png": "[encoded data removed]",
      "text/plain": [
       "<Figure size 432x288 with 1 Axes>"
      ]
     },
     "metadata": {},
     "output_type": "display_data"
    }
   ],
   "source": [
    "ox = x1\n",
    "oy = b0 + b1 * ox\n",
    "\n",
    "plt.scatter(x1, y1)\n",
    "plt.plot(ox, oy, color='red', alpha=0.5)\n",
    "\n",
    "plt.xlabel('salary')\n",
    "plt.ylabel('scoring');"
   ]
  },
  {
   "cell_type": "markdown",
   "metadata": {},
   "source": [
    "__Посчитайте коэффициент детерминации, среднюю ошибку аппроксимации.__"
   ]
  },
  {
   "cell_type": "markdown",
   "metadata": {},
   "source": [
    "__Коэффициент детерминации__:\n",
    "$$R^2 = 1 - \\dfrac{\\sigma^2_{res}}{\\sigma^2_{y}}$$\n",
    "\n",
    "Для _несмещённых моделей регрессии_ коэффициент детерминации можно также посчитать как квадрат коэффициента корреляции между объясняемой переменной $y$ и предсказанной переменной $z$:\n",
    "$$R^2 = r_{yz}^2.$$\n"
   ]
  },
  {
   "cell_type": "code",
   "execution_count": 78,
   "metadata": {},
   "outputs": [
    {
     "data": {
      "text/plain": [
       "array([[401.        , 535.89621821],\n",
       "       [574.        , 562.10160703],\n",
       "       [874.        , 942.07974498],\n",
       "       [919.        , 968.2851338 ],\n",
       "       [459.        , 548.99891262]])"
      ]
     },
     "execution_count": 78,
     "metadata": {},
     "output_type": "execute_result"
    }
   ],
   "source": [
    "z1 = b0 + b1 * x1\n",
    "\n",
    "np.vstack([y1, z1]).T[:5]"
   ]
  },
  {
   "cell_type": "code",
   "execution_count": 79,
   "metadata": {},
   "outputs": [
    {
     "data": {
      "text/plain": [
       "0.7876386635293686"
      ]
     },
     "execution_count": 79,
     "metadata": {},
     "output_type": "execute_result"
    }
   ],
   "source": [
    "#Коэффициент детерминации\n",
    "R1 = 1 - (z1 - y1).var() / y1.var()\n",
    "R1"
   ]
  },
  {
   "cell_type": "markdown",
   "metadata": {},
   "source": [
    "Коэффициент детерминации, равный  0.7876 , означает, что  79%  дисперсии переменной  𝑦  учитывается или объясняется моделью. Оставшиеся  21%  обусловлены какими-то ещё факторами, которые модель не учла.\n",
    "\n",
    "Поскольку наша модель является несмещённой, то же значение можно посчитать как квадрат коэффициента корреляции между массивами x1 и y1:"
   ]
  },
  {
   "cell_type": "code",
   "execution_count": 80,
   "metadata": {},
   "outputs": [
    {
     "data": {
      "text/plain": [
       "array([[1.        , 0.78763866],\n",
       "       [0.78763866, 1.        ]])"
      ]
     },
     "execution_count": 80,
     "metadata": {},
     "output_type": "execute_result"
    }
   ],
   "source": [
    "np.corrcoef(x1, y1) ** 2"
   ]
  },
  {
   "cell_type": "markdown",
   "metadata": {},
   "source": [
    "__средняя ошибка аппроксимации__ вычисляется по формуле:\n",
    "$$\\overline{A} = \\frac{1}{n} \\displaystyle\\sum_{i=1}^{n} \\Bigl| {{\\frac{y_i - z_i}{y_i}} \\Bigr|}.$$\n",
    "\n",
    "Если $\\overline{A}$ не превышает $8$-$10 \\%$, можно сказать, что теоретические значения близки к тем, которые выдает модель линейной регрессии."
   ]
  },
  {
   "cell_type": "code",
   "execution_count": 81,
   "metadata": {},
   "outputs": [],
   "source": [
    "def mean_approximation_error(y_real: np.ndarray, y_pred: np.ndarray) -> float:\n",
    "    \"\"\"Средняя ошибка аппроксимации.\n",
    "    \"\"\"\n",
    "    \n",
    "    return np.abs((y_real - y_pred) / y_real).mean()"
   ]
  },
  {
   "cell_type": "code",
   "execution_count": 82,
   "metadata": {},
   "outputs": [
    {
     "data": {
      "text/plain": [
       "0.11469251843561708"
      ]
     },
     "execution_count": 82,
     "metadata": {},
     "output_type": "execute_result"
    }
   ],
   "source": [
    "mean_approximation_error(y1, z1)"
   ]
  },
  {
   "cell_type": "markdown",
   "metadata": {},
   "source": [
    "__Оцените построенное уравнение регрессии с помощью F-критерия Фишера.__"
   ]
  },
  {
   "cell_type": "markdown",
   "metadata": {},
   "source": [
    "Оценить статистическую значимость уравнения линейной регрессии в целом можно с помощью __F-критерия Фишера__. Проверяется нулевая гипотеза о том, что все коэффициенты при факторах у регрессионной модели равны нулю (т.е. модель представляет из себя горизонтальную плоскость.)\n",
    "\n",
    "Используемая здесь статистика:\n",
    "$$F = \\dfrac{R^2 / k}{(1 - R^2) / (n - k - 1)},$$\n",
    "где $R^2$ — коэффициент детерминации, $n$ — число наблюдений, $k$ — число факторов. В литературе часто используются обозначения $k_1 = k$, $k_2 = n - k - 1$ (иногда вместо $k_1$, $k_2$ пишут также $f_1$, $f_2$).\n",
    "\n",
    "Данную статистику можно понимать как отношение объяснённой дисперсии к необъяснённой.\n",
    "\n",
    "Критическое значение $F_{сrit} = F(k_1, k_2)$ можно найти по таблице (например, по [такой](https://www.chem-astu.ru/science/reference/F-statistic.html)) или с помощью функции `scipy.stats.f.ppf`.\n",
    "\n",
    "Если $F > F_{crit}$, то нулевая гипотеза отвергается и уравнение регрессии признаётся статистически значимым."
   ]
  },
  {
   "cell_type": "code",
   "execution_count": 83,
   "metadata": {},
   "outputs": [
    {
     "data": {
      "text/plain": [
       "29.67164085966451"
      ]
     },
     "execution_count": 83,
     "metadata": {},
     "output_type": "execute_result"
    }
   ],
   "source": [
    "k1 = 1\n",
    "k2 = x1.shape[0] - k1 - 1\n",
    "\n",
    "F1 = (R1 / k1) / ((1 - R1) / k2)\n",
    "F1"
   ]
  },
  {
   "cell_type": "markdown",
   "metadata": {},
   "source": [
    "Для уровня значимости $\\alpha = 0.05$ посчитаем по таблице значение $F_{crit} = F(1, 8)$. Оно равно $5.32$. То же самое с помощью `scipy`:"
   ]
  },
  {
   "cell_type": "code",
   "execution_count": 84,
   "metadata": {},
   "outputs": [
    {
     "data": {
      "text/plain": [
       "5.317655071578714"
      ]
     },
     "execution_count": 84,
     "metadata": {},
     "output_type": "execute_result"
    }
   ],
   "source": [
    "alpha = 0.05\n",
    "\n",
    "F_crit = stats.f.ppf(1 - alpha, k1, k2)\n",
    "F_crit"
   ]
  },
  {
   "cell_type": "markdown",
   "metadata": {},
   "source": [
    "Имеем $F > F_{crit}$, поэтому уравнение регрессии статистически значимо."
   ]
  },
  {
   "cell_type": "markdown",
   "metadata": {},
   "source": [
    "__Постройте для коэффициентов регрессии доверительные интервалы с помощью t-статистики Стьюдента.__"
   ]
  },
  {
   "cell_type": "markdown",
   "metadata": {},
   "source": [
    "В случае парной регрессии с помощью t-распределения Стьюдента можно построить доверительные интервалы для коэффициентов регрессии.\n",
    "\n",
    "Например, построим доверительный интервал коэффициента наклона $b_1$ (из уравнения $y = b_0 + b_1 \\cdot x$). Нам понадобится значение __стандартной ошибки коэффициента наклона__. Она вычисляется по формуле:\n",
    "$$S_{slope} = \\sqrt{\\dfrac{\\frac{1}{n - 2} \\displaystyle\\sum_{i=1}^{n}(y_i - z_i)^2}{\\displaystyle\\sum_{i=1}^n (x_i - \\overline{x})^2}},$$\n",
    "где:\n",
    "* $x$, $x_i$ — соответственно, все значения и конкретное значение фактора\n",
    "* $y_i$ — конкретное значение оцениваемой (целевой) переменной\n",
    "* $z_i$ — «предсказанное» значение, полученное с помощью модели регрессии\n",
    "* $n$ — число элементов в выборке\n",
    "\n",
    "Допустим, мы получили коэффициент наклона $\\hat{b}_1$ (например, с помощью формул для парной регрессии или с помощью метода наименьших квадратов). Пусть $b_1$ — реальное значение этого коэффициента. Тогда статистика\n",
    "$$T = \\dfrac{\\hat{b}_1 - b_1}{S_{slope}}$$\n",
    "имеет распределение Стьюдента с $n - 2$ степенями свободы. Для выбранного нами уровня доверия $p = 1 - \\alpha$ доверительный интервал выглядит следующим образом:\n",
    "$$P \\left( \\hat{b}_1 - t_{1 - \\alpha/2, \\: n - 2} \\cdot S_{slope} \\leq b_1 \\leq \\hat{b}_1 + t_{1 - \\alpha/2, \\: n - 2} \\cdot S_{slope} \\right) = p$$\n",
    "\n",
    "Аналогично можно построить доверительный интервал для коэффициента сдвига $b_0$. __Стандартная ошибка коэффициента сдвига__ вычисляется по формуле:\n",
    "$$S_{intercept} = S_{slope} \\cdot \\sqrt{\\dfrac{1}{n} \\displaystyle\\sum_{i=1}^n x_i^2}.$$"
   ]
  },
  {
   "cell_type": "code",
   "execution_count": 85,
   "metadata": {},
   "outputs": [],
   "source": [
    "def standard_error_slope(\n",
    "        x: np.ndarray,\n",
    "        y: np.ndarray,\n",
    "        z: np.ndarray,\n",
    ") -> float:\n",
    "    \"\"\"Стандартная ошибка коэффициента наклона.\n",
    "    \"\"\"\n",
    "    \n",
    "    n = x.shape[0]\n",
    "    \n",
    "    upper = ((y - z) ** 2).sum() / (n - 2)\n",
    "    lower = ((x - x.mean()) ** 2).sum()\n",
    "    \n",
    "    return np.sqrt(upper / lower)"
   ]
  },
  {
   "cell_type": "code",
   "execution_count": 86,
   "metadata": {},
   "outputs": [
    {
     "data": {
      "text/plain": [
       "0.48108279568516005"
      ]
     },
     "execution_count": 86,
     "metadata": {},
     "output_type": "execute_result"
    }
   ],
   "source": [
    "s_slope = standard_error_slope(x1, y1, z1)\n",
    "s_slope"
   ]
  },
  {
   "cell_type": "markdown",
   "metadata": {},
   "source": [
    "Зададим уровень доверия  𝑝=0.95 , т.е.  𝛼=0.05 . В нашем случае  𝑛=10 , поэтому нас интересует квантиль  𝑡1−0.05/2,8=2.306 ."
   ]
  },
  {
   "cell_type": "code",
   "execution_count": 87,
   "metadata": {},
   "outputs": [
    {
     "data": {
      "text/plain": [
       "2.3060041350333704"
      ]
     },
     "execution_count": 87,
     "metadata": {},
     "output_type": "execute_result"
    }
   ],
   "source": [
    "alpha = 0.05\n",
    "\n",
    "t = stats.t.ppf(1 - alpha / 2, df=8)\n",
    "t"
   ]
  },
  {
   "cell_type": "markdown",
   "metadata": {},
   "source": [
    "Доверительный интервал для параметра $b_1$:"
   ]
  },
  {
   "cell_type": "code",
   "execution_count": 88,
   "metadata": {},
   "outputs": [
    {
     "data": {
      "text/plain": [
       "(1.5111599662593722, 3.7299177985461585)"
      ]
     },
     "execution_count": 88,
     "metadata": {},
     "output_type": "execute_result"
    }
   ],
   "source": [
    "(b1 - t * s_slope, b1 + t * s_slope)"
   ]
  },
  {
   "cell_type": "markdown",
   "metadata": {},
   "source": [
    "Аналогично для параметра $b_0$:"
   ]
  },
  {
   "cell_type": "code",
   "execution_count": 89,
   "metadata": {},
   "outputs": [],
   "source": [
    "def standard_error_intercept(\n",
    "        x: np.ndarray,\n",
    "        y: np.ndarray,\n",
    "        z: np.ndarray,\n",
    ") -> float:\n",
    "    \"\"\"Стандартная ошибка коэффициента сдвига.\n",
    "    \"\"\"\n",
    "    \n",
    "    return standard_error_slope(x, y, z) * np.sqrt((x ** 2).mean())"
   ]
  },
  {
   "cell_type": "code",
   "execution_count": 90,
   "metadata": {},
   "outputs": [
    {
     "data": {
      "text/plain": [
       "56.46649755068153"
      ]
     },
     "execution_count": 90,
     "metadata": {},
     "output_type": "execute_result"
    }
   ],
   "source": [
    "s_intercept = standard_error_intercept(x1, y1, z1)\n",
    "s_intercept"
   ]
  },
  {
   "cell_type": "markdown",
   "metadata": {},
   "source": [
    "Доверительный интервал для параметра $b_0$:"
   ]
  },
  {
   "cell_type": "code",
   "execution_count": 91,
   "metadata": {},
   "outputs": [
    {
     "data": {
      "text/plain": [
       "(313.96538048163626, 574.3893341670828)"
      ]
     },
     "execution_count": 91,
     "metadata": {},
     "output_type": "execute_result"
    }
   ],
   "source": [
    "(b0 - t * s_intercept, b0 + t * s_intercept) #b0 лежит в интервале"
   ]
  },
  {
   "cell_type": "markdown",
   "metadata": {},
   "source": [
    "### Задача\n",
    "\n",
    "Квартет Энскомба — популярный в области анализа данных пример наборов данных, у которых практически совпадают все статистические свойства (средние, дисперсии, коэффициенты корреляции, регрессионные линии), однако, существенно отличаются графики. Данный пример призван показать, насколько важна визуализация данных. Датасет представляет собой 4 пары выборок:\n",
    "\n",
    "{\n",
    "    - \"x1\": [10.0, 8.0, 13.0, 9.0, 11.0, 14.0, 6.0, 4.0, 12.0, 7.0, 5.0],\n",
    "    - \"y1\": [8.04, 6.95, 7.58, 8.81, 8.33, 9.96, 7.24, 4.26, 10.84, 4.82, 5.68],\n",
    "    - \"x2\": [10.0, 8.0, 13.0, 9.0, 11.0, 14.0, 6.0, 4.0, 12.0, 7.0, 5.0],\n",
    "    - \"y2\": [9.14, 8.14, 8.74, 8.77, 9.26, 8.1, 6.13, 3.1, 9.13, 7.26, 4.74],\n",
    "    - \"x3\": [10.0, 8.0, 13.0, 9.0, 11.0, 14.0, 6.0, 4.0, 12.0, 7.0, 5.0],\n",
    "    - \"y3\": [7.46, 6.77, 12.74, 7.11, 7.81, 8.84, 6.08, 5.39, 8.15, 6.42, 5.73],\n",
    "    - \"x4\": [8.0, 8.0, 8.0, 8.0, 8.0, 8.0, 8.0, 19.0, 8.0, 8.0, 8.0],\n",
    "    - \"y4\": [6.58, 5.76, 7.71, 8.84, 8.47, 7.04, 5.25, 12.5, 5.56, 7.91, 6.89]\n",
    "}\n",
    "По каждой паре выборок посчитайте:\n",
    "\n",
    "выборочное среднее и дисперсию каждой выборки,\n",
    "коэффициент корреляции Пирсона и прямую линейной регрессии.\n",
    "Убедившись в том, что они практически не отличаются, постройте scatter plot по каждой паре выборок.\n",
    "### Решение"
   ]
  },
  {
   "cell_type": "code",
   "execution_count": 92,
   "metadata": {},
   "outputs": [],
   "source": [
    "x1 = np.array([10.0, 8.0, 13.0, 9.0, 11.0, 14.0, 6.0, 4.0, 12.0, 7.0, 5.0])\n",
    "y1 = np.array([8.04, 6.95, 7.58, 8.81, 8.33, 9.96, 7.24, 4.26, 10.84, 4.82, 5.68])\n",
    "x2 = np.array([10.0, 8.0, 13.0, 9.0, 11.0, 14.0, 6.0, 4.0, 12.0, 7.0, 5.0])\n",
    "y2 = np.array([9.14, 8.14, 8.74, 8.77, 9.26, 8.1, 6.13, 3.1, 9.13, 7.26, 4.74])\n",
    "x3 = np.array([10.0, 8.0, 13.0, 9.0, 11.0, 14.0, 6.0, 4.0, 12.0, 7.0, 5.0])\n",
    "y3 = np.array([7.46, 6.77, 12.74, 7.11, 7.81, 8.84, 6.08, 5.39, 8.15, 6.42, 5.73])\n",
    "x4 = np.array([8.0, 8.0, 8.0, 8.0, 8.0, 8.0, 8.0, 19.0, 8.0, 8.0, 8.0])\n",
    "y4 = np.array([6.58, 5.76, 7.71, 8.84, 8.47, 7.04, 5.25, 12.5, 5.56, 7.91, 6.89])"
   ]
  },
  {
   "cell_type": "code",
   "execution_count": 93,
   "metadata": {},
   "outputs": [
    {
     "name": "stdout",
     "output_type": "stream",
     "text": [
      "среднее X:9.0, среднее Y:7.500909090909093, дисперсия X:10.0, дисперсия Y:3.7520628099173554\n",
      "среднее X:9.0, среднее Y:7.50090909090909, дисперсия X:10.0, дисперсия Y:3.752390082644628\n",
      "среднее X:9.0, среднее Y:7.5, дисперсия X:10.0, дисперсия Y:3.747836363636364\n",
      "среднее X:9.0, среднее Y:7.500909090909091, дисперсия X:10.0, дисперсия Y:3.7484082644628103\n",
      "Коэф-т корреляции:0.81642051634484\n",
      "Коэф-т корреляции:0.8162365060002428\n",
      "Коэф-т корреляции:0.8162867394895984\n",
      "Коэф-т корреляции:0.8165214368885028\n"
     ]
    }
   ],
   "source": [
    "\n",
    "print(f\"среднее X:{x1.mean()}, среднее Y:{y1.mean()}, дисперсия X:{x1.var()}, дисперсия Y:{y1.var()}\")\n",
    "print(f\"среднее X:{x2.mean()}, среднее Y:{y2.mean()}, дисперсия X:{x2.var()}, дисперсия Y:{y2.var()}\")\n",
    "print(f\"среднее X:{x3.mean()}, среднее Y:{y3.mean()}, дисперсия X:{x3.var()}, дисперсия Y:{y3.var()}\")\n",
    "print(f\"среднее X:{x4.mean()}, среднее Y:{y4.mean()}, дисперсия X:{x4.var()}, дисперсия Y:{y4.var()}\")\n",
    "print(f\"Коэф-т корреляции:{np.corrcoef(x1, y1)[0,1]}\")\n",
    "print(f\"Коэф-т корреляции:{np.corrcoef(x2, y2)[0,1]}\")\n",
    "print(f\"Коэф-т корреляции:{np.corrcoef(x3, y3)[0,1]}\")\n",
    "print(f\"Коэф-т корреляции:{np.corrcoef(x4, y4)[0,1]}\")"
   ]
  },
  {
   "cell_type": "code",
   "execution_count": 94,
   "metadata": {},
   "outputs": [],
   "source": [
    "#найдем коэф-ты линейной регрессии\n",
    "b1_1 = np.cov(x1, y1, ddof=0)[0, 1] / np.var(x1, ddof=0)\n",
    "b0_1 = y1.mean() - b1_1 * x1.mean()\n",
    "\n",
    "b1_2 = np.cov(x2, y2, ddof=0)[0, 1] / np.var(x2, ddof=0)\n",
    "b0_2 = y2.mean() - b1_2 * x2.mean()\n",
    "\n",
    "b1_3 = np.cov(x3, y3, ddof=0)[0, 1] / np.var(x3, ddof=0)\n",
    "b0_3 = y3.mean() - b1_3 * x3.mean()\n",
    "\n",
    "b1_4 = np.cov(x4, y4, ddof=0)[0, 1] / np.var(x4, ddof=0)\n",
    "b0_4 = y4.mean() - b1_4 * x4.mean()\n"
   ]
  },
  {
   "cell_type": "code",
   "execution_count": 96,
   "metadata": {},
   "outputs": [
    {
     "data": {
      "text/plain": [
       "[<matplotlib.lines.Line2D at 0x19a5ac85808>]"
      ]
     },
     "execution_count": 96,
     "metadata": {},
     "output_type": "execute_result"
    },
    {
     "data": {
      "image/png": "[encoded data removed]",
      "text/plain": [
       "<Figure size 432x288 with 1 Axes>"
      ]
     },
     "metadata": {},
     "output_type": "display_data"
    }
   ],
   "source": [
    "ox1 = x1\n",
    "oy1 = b0_1 + b1_1 * ox1\n",
    "\n",
    "plt.scatter(x1, y1)\n",
    "plt.plot(ox1, oy1, color='red', alpha=0.5)"
   ]
  },
  {
   "cell_type": "code",
   "execution_count": 97,
   "metadata": {},
   "outputs": [
    {
     "data": {
      "text/plain": [
       "[<matplotlib.lines.Line2D at 0x19a5ace5648>]"
      ]
     },
     "execution_count": 97,
     "metadata": {},
     "output_type": "execute_result"
    },
    {
     "data": {
      "image/png": "[encoded data removed]",
      "text/plain": [
       "<Figure size 432x288 with 1 Axes>"
      ]
     },
     "metadata": {},
     "output_type": "display_data"
    }
   ],
   "source": [
    "ox2 = x2\n",
    "oy2 = b0_2 + b1_2 * ox2\n",
    "\n",
    "plt.scatter(x2, y2)\n",
    "plt.plot(ox2, oy2, color='red', alpha=0.5)"
   ]
  },
  {
   "cell_type": "code",
   "execution_count": 98,
   "metadata": {},
   "outputs": [
    {
     "data": {
      "text/plain": [
       "[<matplotlib.lines.Line2D at 0x19a598e24c8>]"
      ]
     },
     "execution_count": 98,
     "metadata": {},
     "output_type": "execute_result"
    },
    {
     "data": {
      "image/png": "[encoded data removed]",
      "text/plain": [
       "<Figure size 432x288 with 1 Axes>"
      ]
     },
     "metadata": {},
     "output_type": "display_data"
    }
   ],
   "source": [
    "ox3 = x3\n",
    "oy3 = b0_3 + b1_3 * ox3\n",
    "\n",
    "plt.scatter(x3, y3)\n",
    "plt.plot(ox3, oy3, color='red', alpha=0.5)"
   ]
  },
  {
   "cell_type": "code",
   "execution_count": 99,
   "metadata": {},
   "outputs": [
    {
     "data": {
      "text/plain": [
       "[<matplotlib.lines.Line2D at 0x19a5ad8d748>]"
      ]
     },
     "execution_count": 99,
     "metadata": {},
     "output_type": "execute_result"
    },
    {
     "data": {
      "image/png": "[encoded data removed]",
      "text/plain": [
       "<Figure size 432x288 with 1 Axes>"
      ]
     },
     "metadata": {},
     "output_type": "display_data"
    }
   ],
   "source": [
    "ox4 = x4\n",
    "oy4 = b0_4 + b1_4 * ox4\n",
    "\n",
    "plt.scatter(x4, y4)\n",
    "plt.plot(ox4, oy4, color='red', alpha=0.5)"
   ]
  },
  {
   "cell_type": "code",
   "execution_count": 100,
   "metadata": {},
   "outputs": [
    {
     "data": {
      "text/plain": [
       "Text(0.5, 1.0, '4 пара')"
      ]
     },
     "execution_count": 100,
     "metadata": {},
     "output_type": "execute_result"
    },
    {
     "data": {
      "image/png": "[encoded data removed]",
      "text/plain": [
       "<Figure size 1296x288 with 4 Axes>"
      ]
     },
     "metadata": {},
     "output_type": "display_data"
    }
   ],
   "source": [
    "fig, (ax1, ax2, ax3, ax4) = plt.subplots(ncols=4)\n",
    "fig.set_size_inches(18, 4)\n",
    "ax1.scatter(x1, y1)\n",
    "ax1.plot(ox1, oy1, color='red', alpha=0.5)\n",
    "ax1.set_title(\"1 пара\")\n",
    "\n",
    "ax2.scatter(x2, y2)\n",
    "ax2.plot(ox2, oy2, color='red', alpha=0.5)\n",
    "ax2.set_title(\"2 пара\")\n",
    "\n",
    "ax3.scatter(x3, y3)\n",
    "ax3.plot(ox3, oy3, color='red', alpha=0.5)\n",
    "ax3.set_title(\"3 пара\")\n",
    "\n",
    "ax4.scatter(x4, y4)\n",
    "ax4.plot(ox4, oy4, color='red', alpha=0.5)\n",
    "ax4.set_title(\"4 пара\")\n",
    "\n"
   ]
  },
  {
   "cell_type": "code",
   "execution_count": null,
   "metadata": {},
   "outputs": [],
   "source": []
  }
 ],
 "metadata": {
  "kernelspec": {
   "display_name": "Python 3",
   "language": "python",
   "name": "python3"
  },
  "language_info": {
   "codemirror_mode": {
    "name": "ipython",
    "version": 3
   },
   "file_extension": ".py",
   "mimetype": "text/x-python",
   "name": "python",
   "nbconvert_exporter": "python",
   "pygments_lexer": "ipython3",
   "version": "3.7.4"
  }
 },
 "nbformat": 4,
 "nbformat_minor": 2
}
