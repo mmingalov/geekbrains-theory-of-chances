{
  "nbformat": 4,
  "nbformat_minor": 0,
  "metadata": {
    "colab": {
      "name": "Матстат - Урок 4.ipynb",
      "provenance": [],
      "collapsed_sections": [
        "OJQ2MA-7i6Yt"
      ]
    },
    "kernelspec": {
      "display_name": "Python 3",
      "language": "python",
      "name": "python3"
    }
  },
  "cells": [
    {
      "cell_type": "markdown",
      "metadata": {
        "id": "BtMkTMxui6Ut",
        "colab_type": "text"
      },
      "source": [
        "## Урок 4"
      ]
    },
    {
      "cell_type": "markdown",
      "metadata": {
        "id": "C8EP-7Wui6Ux",
        "colab_type": "text"
      },
      "source": [
        "### Непрерывные случайные величины. \n",
        "\n",
        "### Функция распределения и плотность распределения вероятностей. \n",
        "\n",
        "### Равномерное и нормальное распределение. Центральная предельная теорема"
      ]
    },
    {
      "cell_type": "markdown",
      "metadata": {
        "collapsed": true,
        "id": "XvDR0Waai6U0",
        "colab_type": "text"
      },
      "source": [
        "**Непрерывная случайная величина** может принимать все возможные значения, содержащиеся на промежутке, который может быть как конечным (ограниченным), так и бесконечным."
      ]
    },
    {
      "cell_type": "markdown",
      "metadata": {
        "collapsed": true,
        "id": "XZORR920i6U1",
        "colab_type": "text"
      },
      "source": [
        "**Функция распределения вероятностей** — это функция $F(x)$, которая для каждого значения $x$ показывает, какова вероятность того, что случайная величина меньше $x$."
      ]
    },
    {
      "cell_type": "markdown",
      "metadata": {
        "collapsed": true,
        "id": "TtpMrj88i6U4",
        "colab_type": "text"
      },
      "source": [
        "**Плотность распределения вероятностей** — это функция $f(x)$, которая равна производной функции распределения вероятностей:"
      ]
    },
    {
      "cell_type": "markdown",
      "metadata": {
        "collapsed": true,
        "id": "pQAJZJ20i6U6",
        "colab_type": "text"
      },
      "source": [
        "$$f(x) = F'(x)$$"
      ]
    },
    {
      "cell_type": "markdown",
      "metadata": {
        "collapsed": true,
        "id": "CSl1_uN-i6U7",
        "colab_type": "text"
      },
      "source": [
        "#### Равномерное распределение"
      ]
    },
    {
      "cell_type": "markdown",
      "metadata": {
        "collapsed": true,
        "id": "3le34dnIi6U_",
        "colab_type": "text"
      },
      "source": [
        "Распределение вероятностей случайной величины $X$ в зависимости от плотности:"
      ]
    },
    {
      "cell_type": "markdown",
      "metadata": {
        "id": "yumUBW2Oi6VB",
        "colab_type": "text"
      },
      "source": [
        "$$f(x) = \\begin{cases} 0, если \\; x \\le a; \\\\ \\frac{1}{b - a}, если \\; a < x \\le b; \\\\ 0, \\; если \\; x > b. \\end{cases}$$"
      ]
    },
    {
      "cell_type": "markdown",
      "metadata": {
        "id": "33P919A0i6VG",
        "colab_type": "text"
      },
      "source": [
        "Математическое ожидание $M(X)$ равномерно распределенной непрерывной случайной величины можно вычислить по формуле:"
      ]
    },
    {
      "cell_type": "markdown",
      "metadata": {
        "id": "RAd-f2e-i6VH",
        "colab_type": "text"
      },
      "source": [
        "$$M(X) = \\frac{a + b}{2}$$"
      ]
    },
    {
      "cell_type": "markdown",
      "metadata": {
        "id": "Fhn0ToAfi6VJ",
        "colab_type": "text"
      },
      "source": [
        "По следующей формуле можно рассчитать дисперсию $D(X)$:"
      ]
    },
    {
      "cell_type": "markdown",
      "metadata": {
        "id": "zbBdqRj0i6VL",
        "colab_type": "text"
      },
      "source": [
        "$$D(X) = \\frac{(b - a)^2}{12}$$"
      ]
    },
    {
      "cell_type": "markdown",
      "metadata": {
        "id": "LAg5Zitzi6VN",
        "colab_type": "text"
      },
      "source": [
        "Посмотрим на график плотности равномерного распределения:"
      ]
    },
    {
      "cell_type": "markdown",
      "metadata": {
        "id": "fnLAGtKNi6VP",
        "colab_type": "text"
      },
      "source": [
        "<img src='https://ru.files.fm/thumb_show.php?i=4whssuky&view' width=500>Рис. 1 График плотности равномерного распределения</img>"
      ]
    },
    {
      "cell_type": "markdown",
      "metadata": {
        "id": "cnqnQDKVi6VR",
        "colab_type": "text"
      },
      "source": [
        "График функции равномерного распределения:"
      ]
    },
    {
      "cell_type": "markdown",
      "metadata": {
        "id": "oyQNoEwCi6VT",
        "colab_type": "text"
      },
      "source": [
        "<img src='https://ru.files.fm/thumb_show.php?i=fwy7dghu&view' width=500>Рис. 2 График функции равномерного распределения</img>"
      ]
    },
    {
      "cell_type": "markdown",
      "metadata": {
        "id": "KPY3CoKRi6VV",
        "colab_type": "text"
      },
      "source": [
        "#### Нормальное распределение"
      ]
    },
    {
      "cell_type": "markdown",
      "metadata": {
        "id": "jbWKmxOBi6VX",
        "colab_type": "text"
      },
      "source": [
        "Нормальное распределение — это распределение вероятностей непрерывной случайной величины $X$, плотность вероятности которой подчиняется формуле:"
      ]
    },
    {
      "cell_type": "markdown",
      "metadata": {
        "id": "lqTqlCDai6VZ",
        "colab_type": "text"
      },
      "source": [
        "$$f(x) = \\frac{1}{\\sigma \\sqrt{2 \\pi}} e ^ {- \\frac{(x - a)^2}{2 \\sigma^2}},$$"
      ]
    },
    {
      "cell_type": "markdown",
      "metadata": {
        "id": "gHiRniuYi6Vb",
        "colab_type": "text"
      },
      "source": [
        "где $a = M(X), \\; \\sigma^2 = D(X).$"
      ]
    },
    {
      "cell_type": "markdown",
      "metadata": {
        "id": "1q-XrpWpi6Vd",
        "colab_type": "text"
      },
      "source": [
        "График плотности нормального распределения имеет колоколообразную форму:"
      ]
    },
    {
      "cell_type": "markdown",
      "metadata": {
        "id": "HDlsBYJ5i6Vg",
        "colab_type": "text"
      },
      "source": [
        "<img src='https://ru.files.fm/thumb_show.php?i=wmq8yuhw&view' width=500> </img> Рис 3. График плотности нормального распределения"
      ]
    },
    {
      "cell_type": "markdown",
      "metadata": {
        "id": "BJM8r1DSi6Vm",
        "colab_type": "text"
      },
      "source": [
        "Примеры нормально распределенных величин: рост и вес людей, скорость движение молекул в газах и жидкостях, показатели IQ."
      ]
    },
    {
      "cell_type": "markdown",
      "metadata": {
        "id": "nMIonO2Si6Vu",
        "colab_type": "text"
      },
      "source": [
        "Одно из свойств нормального распределения: среднее значение, медиана и мода совпадают."
      ]
    },
    {
      "cell_type": "markdown",
      "metadata": {
        "id": "r5RucWyGi6Vx",
        "colab_type": "text"
      },
      "source": [
        "На отрезке от $-\\sigma$ до $+\\sigma$ расположено около 68 % наблюдений, \n",
        "\n",
        "от $-2\\sigma$ до $+2\\sigma$ — 95.4 %,\n",
        "\n",
        "и от $-3\\sigma$ до $+3\\sigma$ — 99.72 %."
      ]
    },
    {
      "cell_type": "markdown",
      "metadata": {
        "id": "2hgQxgpYi6Vy",
        "colab_type": "text"
      },
      "source": [
        "**Пример 1**"
      ]
    },
    {
      "cell_type": "markdown",
      "metadata": {
        "id": "HTxyDrh0i6V0",
        "colab_type": "text"
      },
      "source": [
        "Расмотрим конкретный пример данных, распределенных нормально, — из статьи\n",
        "<a href='https://habr.com/post/301340/'>«Рост хоккеистов: анализируем данные всех чемпионатов мира в текущем веке»</a>."
      ]
    },
    {
      "cell_type": "code",
      "metadata": {
        "id": "-UQ9luH2i6V2",
        "colab_type": "code",
        "colab": {}
      },
      "source": [
        "import pandas as pd\n",
        "import numpy as np"
      ],
      "execution_count": 0,
      "outputs": []
    },
    {
      "cell_type": "code",
      "metadata": {
        "id": "bmsGD4E6i6WB",
        "colab_type": "code",
        "colab": {}
      },
      "source": [
        "df = pd.read_csv('csv/hockey_players.csv', encoding='cp1251', parse_dates=['birth'])"
      ],
      "execution_count": 0,
      "outputs": []
    },
    {
      "cell_type": "markdown",
      "metadata": {
        "id": "swgqE8N4i6WI",
        "colab_type": "text"
      },
      "source": [
        "Просмотрим первые строки датасета:"
      ]
    },
    {
      "cell_type": "code",
      "metadata": {
        "id": "nUXZvcjgi6WK",
        "colab_type": "code",
        "outputId": "694ed8d5-6af1-4a3f-a57b-3464c20529b1",
        "colab": {}
      },
      "source": [
        "df.head()"
      ],
      "execution_count": 0,
      "outputs": [
        {
          "output_type": "execute_result",
          "data": {
            "text/html": [
              "<div>\n",
              "<style scoped>\n",
              "    .dataframe tbody tr th:only-of-type {\n",
              "        vertical-align: middle;\n",
              "    }\n",
              "\n",
              "    .dataframe tbody tr th {\n",
              "        vertical-align: top;\n",
              "    }\n",
              "\n",
              "    .dataframe thead th {\n",
              "        text-align: right;\n",
              "    }\n",
              "</style>\n",
              "<table border=\"1\" class=\"dataframe\">\n",
              "  <thead>\n",
              "    <tr style=\"text-align: right;\">\n",
              "      <th></th>\n",
              "      <th>year</th>\n",
              "      <th>country</th>\n",
              "      <th>no</th>\n",
              "      <th>name</th>\n",
              "      <th>position</th>\n",
              "      <th>side</th>\n",
              "      <th>height</th>\n",
              "      <th>weight</th>\n",
              "      <th>birth</th>\n",
              "      <th>club</th>\n",
              "      <th>age</th>\n",
              "      <th>cohort</th>\n",
              "      <th>bmi</th>\n",
              "    </tr>\n",
              "  </thead>\n",
              "  <tbody>\n",
              "    <tr>\n",
              "      <th>0</th>\n",
              "      <td>2001</td>\n",
              "      <td>RUS</td>\n",
              "      <td>10</td>\n",
              "      <td>tverdovsky oleg</td>\n",
              "      <td>D</td>\n",
              "      <td>L</td>\n",
              "      <td>185</td>\n",
              "      <td>84.0</td>\n",
              "      <td>1976-05-18</td>\n",
              "      <td>anaheim mighty ducks</td>\n",
              "      <td>24.952772</td>\n",
              "      <td>1976</td>\n",
              "      <td>24.543462</td>\n",
              "    </tr>\n",
              "    <tr>\n",
              "      <th>1</th>\n",
              "      <td>2001</td>\n",
              "      <td>RUS</td>\n",
              "      <td>2</td>\n",
              "      <td>vichnevsky vitali</td>\n",
              "      <td>D</td>\n",
              "      <td>L</td>\n",
              "      <td>188</td>\n",
              "      <td>86.0</td>\n",
              "      <td>1980-03-18</td>\n",
              "      <td>anaheim mighty ducks</td>\n",
              "      <td>21.119781</td>\n",
              "      <td>1980</td>\n",
              "      <td>24.332277</td>\n",
              "    </tr>\n",
              "    <tr>\n",
              "      <th>2</th>\n",
              "      <td>2001</td>\n",
              "      <td>RUS</td>\n",
              "      <td>26</td>\n",
              "      <td>petrochinin evgeni</td>\n",
              "      <td>D</td>\n",
              "      <td>L</td>\n",
              "      <td>182</td>\n",
              "      <td>95.0</td>\n",
              "      <td>1976-02-07</td>\n",
              "      <td>severstal cherepovetal</td>\n",
              "      <td>25.229295</td>\n",
              "      <td>1976</td>\n",
              "      <td>28.680111</td>\n",
              "    </tr>\n",
              "    <tr>\n",
              "      <th>3</th>\n",
              "      <td>2001</td>\n",
              "      <td>RUS</td>\n",
              "      <td>28</td>\n",
              "      <td>zhdan alexander</td>\n",
              "      <td>D</td>\n",
              "      <td>R</td>\n",
              "      <td>178</td>\n",
              "      <td>85.0</td>\n",
              "      <td>1971-08-28</td>\n",
              "      <td>ak bars kazan</td>\n",
              "      <td>29.675565</td>\n",
              "      <td>1971</td>\n",
              "      <td>26.827421</td>\n",
              "    </tr>\n",
              "    <tr>\n",
              "      <th>4</th>\n",
              "      <td>2001</td>\n",
              "      <td>RUS</td>\n",
              "      <td>32</td>\n",
              "      <td>orekhovsky oleg</td>\n",
              "      <td>D</td>\n",
              "      <td>R</td>\n",
              "      <td>175</td>\n",
              "      <td>88.0</td>\n",
              "      <td>1977-11-03</td>\n",
              "      <td>dynamo moscow</td>\n",
              "      <td>23.490760</td>\n",
              "      <td>1977</td>\n",
              "      <td>28.734694</td>\n",
              "    </tr>\n",
              "  </tbody>\n",
              "</table>\n",
              "</div>"
            ],
            "text/plain": [
              "   year country  no                 name position side  height  weight  \\\n",
              "0  2001     RUS  10     tverdovsky oleg         D    L     185    84.0   \n",
              "1  2001     RUS   2   vichnevsky vitali         D    L     188    86.0   \n",
              "2  2001     RUS  26  petrochinin evgeni         D    L     182    95.0   \n",
              "3  2001     RUS  28     zhdan alexander         D    R     178    85.0   \n",
              "4  2001     RUS  32     orekhovsky oleg         D    R     175    88.0   \n",
              "\n",
              "       birth                     club        age  cohort        bmi  \n",
              "0 1976-05-18    anaheim mighty ducks   24.952772    1976  24.543462  \n",
              "1 1980-03-18    anaheim mighty ducks   21.119781    1980  24.332277  \n",
              "2 1976-02-07  severstal cherepovetal   25.229295    1976  28.680111  \n",
              "3 1971-08-28           ak bars kazan   29.675565    1971  26.827421  \n",
              "4 1977-11-03           dynamo moscow   23.490760    1977  28.734694  "
            ]
          },
          "metadata": {
            "tags": []
          },
          "execution_count": 5
        }
      ]
    },
    {
      "cell_type": "markdown",
      "metadata": {
        "id": "QEJZ5LTSi6WW",
        "colab_type": "text"
      },
      "source": [
        "Посмотрим количество строк, полей и информацию о полях в датасете:"
      ]
    },
    {
      "cell_type": "code",
      "metadata": {
        "id": "wjgoaSKxi6WY",
        "colab_type": "code",
        "outputId": "801a69c7-eaca-4b85-e3f5-cc57dcf345c6",
        "colab": {}
      },
      "source": [
        "df.shape"
      ],
      "execution_count": 0,
      "outputs": [
        {
          "output_type": "execute_result",
          "data": {
            "text/plain": [
              "(6292, 13)"
            ]
          },
          "metadata": {
            "tags": []
          },
          "execution_count": 6
        }
      ]
    },
    {
      "cell_type": "code",
      "metadata": {
        "id": "LmZrkjUoi6Wj",
        "colab_type": "code",
        "outputId": "477c1b95-610b-409e-b823-11972f091833",
        "colab": {}
      },
      "source": [
        "df.columns"
      ],
      "execution_count": 0,
      "outputs": [
        {
          "output_type": "execute_result",
          "data": {
            "text/plain": [
              "Index(['year', 'country', 'no', 'name', 'position', 'side', 'height', 'weight',\n",
              "       'birth', 'club', 'age', 'cohort', 'bmi'],\n",
              "      dtype='object')"
            ]
          },
          "metadata": {
            "tags": []
          },
          "execution_count": 7
        }
      ]
    },
    {
      "cell_type": "code",
      "metadata": {
        "id": "OAiu_WjGi6Wq",
        "colab_type": "code",
        "outputId": "6327f7ec-f4c9-4f04-bc28-e6dce32b3548",
        "colab": {}
      },
      "source": [
        "df.describe()"
      ],
      "execution_count": 0,
      "outputs": [
        {
          "output_type": "execute_result",
          "data": {
            "text/html": [
              "<div>\n",
              "<style scoped>\n",
              "    .dataframe tbody tr th:only-of-type {\n",
              "        vertical-align: middle;\n",
              "    }\n",
              "\n",
              "    .dataframe tbody tr th {\n",
              "        vertical-align: top;\n",
              "    }\n",
              "\n",
              "    .dataframe thead th {\n",
              "        text-align: right;\n",
              "    }\n",
              "</style>\n",
              "<table border=\"1\" class=\"dataframe\">\n",
              "  <thead>\n",
              "    <tr style=\"text-align: right;\">\n",
              "      <th></th>\n",
              "      <th>year</th>\n",
              "      <th>no</th>\n",
              "      <th>height</th>\n",
              "      <th>weight</th>\n",
              "      <th>age</th>\n",
              "      <th>cohort</th>\n",
              "      <th>bmi</th>\n",
              "    </tr>\n",
              "  </thead>\n",
              "  <tbody>\n",
              "    <tr>\n",
              "      <th>count</th>\n",
              "      <td>6292.000000</td>\n",
              "      <td>6292.000000</td>\n",
              "      <td>6292.000000</td>\n",
              "      <td>6292.000000</td>\n",
              "      <td>6292.000000</td>\n",
              "      <td>6292.000000</td>\n",
              "      <td>6292.000000</td>\n",
              "    </tr>\n",
              "    <tr>\n",
              "      <th>mean</th>\n",
              "      <td>2008.556421</td>\n",
              "      <td>29.645105</td>\n",
              "      <td>183.811507</td>\n",
              "      <td>87.621662</td>\n",
              "      <td>27.280556</td>\n",
              "      <td>1981.154800</td>\n",
              "      <td>25.917179</td>\n",
              "    </tr>\n",
              "    <tr>\n",
              "      <th>std</th>\n",
              "      <td>4.593766</td>\n",
              "      <td>23.474342</td>\n",
              "      <td>5.383858</td>\n",
              "      <td>6.963876</td>\n",
              "      <td>4.276149</td>\n",
              "      <td>6.314963</td>\n",
              "      <td>1.478541</td>\n",
              "    </tr>\n",
              "    <tr>\n",
              "      <th>min</th>\n",
              "      <td>2001.000000</td>\n",
              "      <td>1.000000</td>\n",
              "      <td>165.000000</td>\n",
              "      <td>65.000000</td>\n",
              "      <td>17.642710</td>\n",
              "      <td>1963.000000</td>\n",
              "      <td>19.460881</td>\n",
              "    </tr>\n",
              "    <tr>\n",
              "      <th>25%</th>\n",
              "      <td>2005.000000</td>\n",
              "      <td>12.000000</td>\n",
              "      <td>180.000000</td>\n",
              "      <td>83.000000</td>\n",
              "      <td>24.136893</td>\n",
              "      <td>1976.000000</td>\n",
              "      <td>24.967113</td>\n",
              "    </tr>\n",
              "    <tr>\n",
              "      <th>50%</th>\n",
              "      <td>2009.000000</td>\n",
              "      <td>24.000000</td>\n",
              "      <td>183.000000</td>\n",
              "      <td>87.000000</td>\n",
              "      <td>27.013005</td>\n",
              "      <td>1981.000000</td>\n",
              "      <td>25.925926</td>\n",
              "    </tr>\n",
              "    <tr>\n",
              "      <th>75%</th>\n",
              "      <td>2013.000000</td>\n",
              "      <td>39.000000</td>\n",
              "      <td>188.000000</td>\n",
              "      <td>92.000000</td>\n",
              "      <td>30.123888</td>\n",
              "      <td>1986.000000</td>\n",
              "      <td>26.874496</td>\n",
              "    </tr>\n",
              "    <tr>\n",
              "      <th>max</th>\n",
              "      <td>2016.000000</td>\n",
              "      <td>98.000000</td>\n",
              "      <td>205.000000</td>\n",
              "      <td>117.000000</td>\n",
              "      <td>43.206023</td>\n",
              "      <td>1998.000000</td>\n",
              "      <td>30.930438</td>\n",
              "    </tr>\n",
              "  </tbody>\n",
              "</table>\n",
              "</div>"
            ],
            "text/plain": [
              "              year           no       height       weight          age  \\\n",
              "count  6292.000000  6292.000000  6292.000000  6292.000000  6292.000000   \n",
              "mean   2008.556421    29.645105   183.811507    87.621662    27.280556   \n",
              "std       4.593766    23.474342     5.383858     6.963876     4.276149   \n",
              "min    2001.000000     1.000000   165.000000    65.000000    17.642710   \n",
              "25%    2005.000000    12.000000   180.000000    83.000000    24.136893   \n",
              "50%    2009.000000    24.000000   183.000000    87.000000    27.013005   \n",
              "75%    2013.000000    39.000000   188.000000    92.000000    30.123888   \n",
              "max    2016.000000    98.000000   205.000000   117.000000    43.206023   \n",
              "\n",
              "            cohort          bmi  \n",
              "count  6292.000000  6292.000000  \n",
              "mean   1981.154800    25.917179  \n",
              "std       6.314963     1.478541  \n",
              "min    1963.000000    19.460881  \n",
              "25%    1976.000000    24.967113  \n",
              "50%    1981.000000    25.925926  \n",
              "75%    1986.000000    26.874496  \n",
              "max    1998.000000    30.930438  "
            ]
          },
          "metadata": {
            "tags": []
          },
          "execution_count": 8
        }
      ]
    },
    {
      "cell_type": "markdown",
      "metadata": {
        "id": "VRPQmemUi6Wz",
        "colab_type": "text"
      },
      "source": [
        "Удалим дубликаты:"
      ]
    },
    {
      "cell_type": "code",
      "metadata": {
        "id": "Y2uJztvvi6W0",
        "colab_type": "code",
        "colab": {}
      },
      "source": [
        "df = df.drop_duplicates(['name', 'birth'])"
      ],
      "execution_count": 0,
      "outputs": []
    },
    {
      "cell_type": "code",
      "metadata": {
        "id": "pK0C_2tRi6XB",
        "colab_type": "code",
        "outputId": "ccf11124-b64e-42c2-dc04-7eb4b3c0510e",
        "colab": {}
      },
      "source": [
        "df.shape"
      ],
      "execution_count": 0,
      "outputs": [
        {
          "output_type": "execute_result",
          "data": {
            "text/plain": [
              "(3294, 13)"
            ]
          },
          "metadata": {
            "tags": []
          },
          "execution_count": 10
        }
      ]
    },
    {
      "cell_type": "markdown",
      "metadata": {
        "id": "le-taotCi6XN",
        "colab_type": "text"
      },
      "source": [
        "Построим распределение роста среди хоккеистов:"
      ]
    },
    {
      "cell_type": "code",
      "metadata": {
        "id": "O8xmDadti6XO",
        "colab_type": "code",
        "colab": {}
      },
      "source": [
        "import matplotlib.pyplot as plt"
      ],
      "execution_count": 0,
      "outputs": []
    },
    {
      "cell_type": "code",
      "metadata": {
        "id": "Xb7ozyBOi6XV",
        "colab_type": "code",
        "outputId": "d79a635f-e650-44db-a7dc-fb2b6bb77a56",
        "colab": {}
      },
      "source": [
        "plt.hist(df['height'], bins=20)\n",
        "plt.show()"
      ],
      "execution_count": 0,
      "outputs": [
        {
          "output_type": "display_data",
          "data": {
            "image/png": "[encoded data removed]",
            "text/plain": [
              "<matplotlib.figure.Figure at 0xde1f762208>"
            ]
          },
          "metadata": {
            "tags": []
          }
        }
      ]
    },
    {
      "cell_type": "markdown",
      "metadata": {
        "id": "yttA1NUQi6Xp",
        "colab_type": "text"
      },
      "source": [
        "На гистограмме видим характерное — похожее на колокол — нормальное распределение, так как мы знаем, что рост — одна из величин, которые могут распределяться нормально. Посмотрим отдельно статистики распределения роста хоккеистов."
      ]
    },
    {
      "cell_type": "markdown",
      "metadata": {
        "id": "rFclwRdoi6Xr",
        "colab_type": "text"
      },
      "source": [
        "Среднее значение:"
      ]
    },
    {
      "cell_type": "code",
      "metadata": {
        "id": "X5an2KXyi6Xt",
        "colab_type": "code",
        "outputId": "2b238f3d-e009-4208-ceb6-109333c17d1a",
        "colab": {}
      },
      "source": [
        "df['height'].mean()"
      ],
      "execution_count": 0,
      "outputs": [
        {
          "output_type": "execute_result",
          "data": {
            "text/plain": [
              "183.829386763813"
            ]
          },
          "metadata": {
            "tags": []
          },
          "execution_count": 13
        }
      ]
    },
    {
      "cell_type": "markdown",
      "metadata": {
        "id": "pPismRLIi6X0",
        "colab_type": "text"
      },
      "source": [
        "Медиана:"
      ]
    },
    {
      "cell_type": "code",
      "metadata": {
        "id": "s3HEJ2kdi6X2",
        "colab_type": "code",
        "outputId": "7f0fa689-689e-418d-8d3d-3e08ff6a6afa",
        "colab": {}
      },
      "source": [
        "df['height'].median()"
      ],
      "execution_count": 0,
      "outputs": [
        {
          "output_type": "execute_result",
          "data": {
            "text/plain": [
              "184.0"
            ]
          },
          "metadata": {
            "tags": []
          },
          "execution_count": 14
        }
      ]
    },
    {
      "cell_type": "markdown",
      "metadata": {
        "id": "Crajxm_oi6X-",
        "colab_type": "text"
      },
      "source": [
        "Мода (специально для этого показателя предварительно округлим значения роста до целых):"
      ]
    },
    {
      "cell_type": "code",
      "metadata": {
        "id": "_UhX2_rai6YA",
        "colab_type": "code",
        "outputId": "64e1d2f9-20e8-44ef-fa21-d3659a340e21",
        "colab": {}
      },
      "source": [
        "df['height_rounded'] = df['height'].apply(round)\n",
        "df['height_rounded'].head(10)"
      ],
      "execution_count": 0,
      "outputs": [
        {
          "output_type": "execute_result",
          "data": {
            "text/plain": [
              "0    185\n",
              "1    188\n",
              "2    182\n",
              "3    178\n",
              "4    175\n",
              "5    193\n",
              "6    176\n",
              "7    183\n",
              "8    180\n",
              "9    178\n",
              "Name: height_rounded, dtype: int64"
            ]
          },
          "metadata": {
            "tags": []
          },
          "execution_count": 15
        }
      ]
    },
    {
      "cell_type": "code",
      "metadata": {
        "id": "WcMSgPJyi6YI",
        "colab_type": "code",
        "outputId": "96654fa6-66d1-4944-cd6a-ec8be3d08e83",
        "colab": {}
      },
      "source": [
        "df['height'].mode()"
      ],
      "execution_count": 0,
      "outputs": [
        {
          "output_type": "execute_result",
          "data": {
            "text/plain": [
              "0    180\n",
              "dtype: int64"
            ]
          },
          "metadata": {
            "tags": []
          },
          "execution_count": 16
        }
      ]
    },
    {
      "cell_type": "markdown",
      "metadata": {
        "id": "EsO96t9ri6YS",
        "colab_type": "text"
      },
      "source": [
        "Видим, что значения среднего, медианы и моды достаточно близки. При большем количестве наблюдений и хорошем приближении к нормальному распределению эти величины могли бы быть приблизительно равны."
      ]
    },
    {
      "cell_type": "markdown",
      "metadata": {
        "id": "4N2B3zuki6YU",
        "colab_type": "text"
      },
      "source": [
        "Среднее квадратичное отклонение:"
      ]
    },
    {
      "cell_type": "code",
      "metadata": {
        "id": "QMny5o5Ri6YW",
        "colab_type": "code",
        "outputId": "459e79ac-9959-43ec-86f2-0f6b904d5e89",
        "colab": {}
      },
      "source": [
        "df['height'].std()"
      ],
      "execution_count": 0,
      "outputs": [
        {
          "output_type": "execute_result",
          "data": {
            "text/plain": [
              "5.467628706191668"
            ]
          },
          "metadata": {
            "tags": []
          },
          "execution_count": 17
        }
      ]
    },
    {
      "cell_type": "markdown",
      "metadata": {
        "id": "bRJeoJJCi6Yg",
        "colab_type": "text"
      },
      "source": [
        "Дисперсия:"
      ]
    },
    {
      "cell_type": "code",
      "metadata": {
        "id": "NAK_pW9Fi6Yk",
        "colab_type": "code",
        "outputId": "88949ae6-19ae-4f7c-abdc-f006e6369bb1",
        "colab": {}
      },
      "source": [
        "df['height'].var()"
      ],
      "execution_count": 0,
      "outputs": [
        {
          "output_type": "execute_result",
          "data": {
            "text/plain": [
              "29.89496366877118"
            ]
          },
          "metadata": {
            "tags": []
          },
          "execution_count": 18
        }
      ]
    },
    {
      "cell_type": "markdown",
      "metadata": {
        "id": "OJQ2MA-7i6Yt",
        "colab_type": "text"
      },
      "source": [
        "#### Центральная предельная теорема"
      ]
    },
    {
      "cell_type": "markdown",
      "metadata": {
        "id": "uvR_ni38i6Yv",
        "colab_type": "text"
      },
      "source": [
        "Центральные предельные теоремы — класс теорем в теории вероятностей. Они утверждают, что сумма достаточно большого количества слабо зависимых случайных величин, имеющих примерно одинаковые масштабы (ни одно из слагаемых не доминирует, не вносит в сумму определяющего вклада), имеет распределение, близкое к нормальному."
      ]
    },
    {
      "cell_type": "markdown",
      "metadata": {
        "id": "3swSoDmHi6Yw",
        "colab_type": "text"
      },
      "source": [
        "Если у нас есть несколько выборок из генеральной совокупности (то есть из совокупности всех возможных объектов исследования), то среднее по этим выборкам также будет иметь нормальное распределение."
      ]
    },
    {
      "cell_type": "markdown",
      "metadata": {
        "id": "t-P7XtKLi6Yx",
        "colab_type": "text"
      },
      "source": [
        "Другими словами, среднее достаточно большого числа независимых и нормально распределенных случайных величин также является приблизительно нормально распределенным."
      ]
    },
    {
      "cell_type": "markdown",
      "metadata": {
        "id": "ZNJVNoUzi6Y0",
        "colab_type": "text"
      },
      "source": [
        "Если $x_1, x_2, ..., x_n$ — случайные величины с математическим ожиданием (или средним значением) $\\mu$ и стандартным отклонением $\\sigma$, и при этом $n$ — большое число, то $\\frac{1}{n}(x_1 + x_2 + ... + x_n)$ — приближенно нормально распределенная величина с математическим ожиданием $\\mu$ и стандартным отклонением, равным $\\frac{\\sigma}{\\sqrt(n)}$."
      ]
    },
    {
      "cell_type": "markdown",
      "metadata": {
        "id": "LsZdXuI2i6Y1",
        "colab_type": "text"
      },
      "source": [
        "**Пример 2**"
      ]
    },
    {
      "cell_type": "markdown",
      "metadata": {
        "id": "91QHJiETi6Y3",
        "colab_type": "text"
      },
      "source": [
        "Из имеющегося набора данных с ростом хоккеистов сформируем 300 выборок по 10 наблюдений и рассмотрим распределение средних значений:"
      ]
    },
    {
      "cell_type": "code",
      "metadata": {
        "id": "ce661T2wi6Y-",
        "colab_type": "code",
        "colab": {}
      },
      "source": [
        "np.random.seed(42)"
      ],
      "execution_count": 0,
      "outputs": []
    },
    {
      "cell_type": "code",
      "metadata": {
        "id": "lIjw59w3i6ZF",
        "colab_type": "code",
        "colab": {}
      },
      "source": [
        "samples = []"
      ],
      "execution_count": 0,
      "outputs": []
    },
    {
      "cell_type": "code",
      "metadata": {
        "id": "gJWXD9Bei6ZL",
        "colab_type": "code",
        "colab": {}
      },
      "source": [
        "for i in range(300):\n",
        "    sample = df.loc[:, 'height'].sample(n=10).values\n",
        "    samples.append(sample)"
      ],
      "execution_count": 0,
      "outputs": []
    },
    {
      "cell_type": "markdown",
      "metadata": {
        "id": "5ni3mNeti6ZT",
        "colab_type": "text"
      },
      "source": [
        "Вычислим средние значения для каждой выборки:"
      ]
    },
    {
      "cell_type": "code",
      "metadata": {
        "id": "T_D4fYNMi6Za",
        "colab_type": "code",
        "colab": {}
      },
      "source": [
        "mean_values = []"
      ],
      "execution_count": 0,
      "outputs": []
    },
    {
      "cell_type": "code",
      "metadata": {
        "id": "YCbucA8di6Zq",
        "colab_type": "code",
        "colab": {}
      },
      "source": [
        "for sample in samples:\n",
        "    mean_values.append(sample.mean())"
      ],
      "execution_count": 0,
      "outputs": []
    },
    {
      "cell_type": "code",
      "metadata": {
        "id": "IQIpStyei6Z1",
        "colab_type": "code",
        "outputId": "484bafd6-c3bf-488a-d78d-76de965af004",
        "colab": {}
      },
      "source": [
        "len(mean_values)"
      ],
      "execution_count": 0,
      "outputs": [
        {
          "output_type": "execute_result",
          "data": {
            "text/plain": [
              "300"
            ]
          },
          "metadata": {
            "tags": []
          },
          "execution_count": 95
        }
      ]
    },
    {
      "cell_type": "code",
      "metadata": {
        "id": "QGZpP0vBi6Z_",
        "colab_type": "code",
        "colab": {}
      },
      "source": [
        "mean_values = np.array(mean_values)"
      ],
      "execution_count": 0,
      "outputs": []
    },
    {
      "cell_type": "code",
      "metadata": {
        "id": "h2Dymc_Qi6aE",
        "colab_type": "code",
        "outputId": "119dcf79-abd1-415b-fa52-c79ef6fa5890",
        "colab": {}
      },
      "source": [
        "mean_values"
      ],
      "execution_count": 0,
      "outputs": [
        {
          "output_type": "execute_result",
          "data": {
            "text/plain": [
              "array([ 184.3,  183.8,  184.9,  182.7,  184.5,  184. ,  183.5,  181. ,\n",
              "        181.8,  183.1,  183.9,  185.3,  183.1,  182.9,  186.1,  178.7,\n",
              "        184.2,  184. ,  185.8,  186.4,  186.6,  184.1,  182.6,  185.5,\n",
              "        180.6,  183.3,  184.9,  183.6,  185. ,  184.8,  180.8,  187. ,\n",
              "        184.3,  184.9,  185.5,  181.9,  185.5,  184.7,  183.4,  186. ,\n",
              "        186.7,  184.6,  183.1,  184.4,  180.4,  184.5,  184.6,  187.5,\n",
              "        186.6,  182.1,  187.1,  183.4,  183.3,  185.4,  181. ,  183.8,\n",
              "        183.5,  180.4,  185. ,  185.8,  186.5,  184.4,  182.3,  184.7,\n",
              "        183.8,  184.1,  182.9,  185. ,  184.6,  183. ,  181.9,  180.2,\n",
              "        184.3,  182.9,  182.6,  184.8,  183.3,  183.6,  184.2,  184.8,\n",
              "        182.7,  180.6,  184.7,  185.3,  184.3,  185.3,  187.7,  184.9,\n",
              "        184.9,  182.7,  184.6,  182.1,  183.4,  186.5,  186. ,  183.9,\n",
              "        183. ,  184.5,  183.1,  188.1,  182.2,  186.4,  183.9,  182.9,\n",
              "        181.8,  183.8,  186.7,  184.2,  182. ,  182.8,  184.1,  182.9,\n",
              "        184.5,  182.9,  184.3,  184.6,  185.6,  184.9,  185.6,  184. ,\n",
              "        180.5,  183.6,  182.8,  183.4,  183.9,  186.2,  181.4,  185.9,\n",
              "        183.6,  183.2,  182.4,  184.7,  182.1,  185.1,  185.2,  183.8,\n",
              "        185.5,  182.1,  184.3,  182.9,  183.9,  183.5,  183.3,  185.2,\n",
              "        183.4,  181.8,  181.6,  184. ,  183.3,  182.5,  181.8,  181.7,\n",
              "        185.4,  184.7,  185.3,  182.7,  183.9,  182.5,  182.9,  185.3,\n",
              "        185.1,  183.5,  183.7,  180. ,  184.7,  183. ,  186.3,  180.4,\n",
              "        182.5,  183.6,  186.5,  184.1,  182.5,  184.9,  184. ,  186.2,\n",
              "        184.9,  185.5,  183.6,  185.5,  183. ,  187.8,  182.8,  185.9,\n",
              "        182.9,  181.8,  186.4,  184.2,  186.7,  184.6,  187.2,  184.6,\n",
              "        185.4,  184.6,  183.2,  185.1,  184.4,  182.9,  183.4,  186.1,\n",
              "        181.8,  181.4,  184.5,  184.8,  183.8,  186.3,  184.3,  182.3,\n",
              "        184.2,  180.9,  183.9,  180.8,  186.2,  182.8,  184.6,  183.9,\n",
              "        186.6,  185.6,  183.4,  186.3,  185.6,  183.4,  182.9,  186.3,\n",
              "        183.7,  182.4,  183. ,  184.2,  183.8,  187. ,  182.5,  185.9,\n",
              "        187.7,  182.9,  184.7,  184.8,  183.2,  184.7,  183.7,  180.4,\n",
              "        183.2,  184.3,  181.8,  182.8,  185.3,  185.3,  184.3,  186.2,\n",
              "        183.6,  184.1,  181.2,  187.7,  182. ,  184.7,  180.7,  184. ,\n",
              "        182.1,  184.3,  182.7,  182.6,  180.3,  185.9,  182.1,  182.3,\n",
              "        186.5,  185.7,  185. ,  182.8,  184.5,  185.9,  183.8,  182.3,\n",
              "        182.5,  180.3,  185. ,  183.6,  184.3,  182.8,  180.8,  183.5,\n",
              "        185.2,  182. ,  183.2,  184. ,  183.7,  180.5,  183.4,  180. ,\n",
              "        182.5,  183.7,  186.4,  185.1,  182.6,  184.4,  183.4,  183.2,\n",
              "        184. ,  180.8,  184.5,  183.6])"
            ]
          },
          "metadata": {
            "tags": []
          },
          "execution_count": 97
        }
      ]
    },
    {
      "cell_type": "code",
      "metadata": {
        "id": "MCa_T6BXi6aL",
        "colab_type": "code",
        "outputId": "78ad6308-37be-4b49-99c5-fc2df3604396",
        "colab": {}
      },
      "source": [
        "plt.hist(mean_values, bins=10)\n",
        "plt.show()"
      ],
      "execution_count": 0,
      "outputs": [
        {
          "output_type": "display_data",
          "data": {
            "image/png": "[encoded data removed]",
            "text/plain": [
              "<matplotlib.figure.Figure at 0xde218e3908>"
            ]
          },
          "metadata": {
            "tags": []
          }
        }
      ]
    },
    {
      "cell_type": "markdown",
      "metadata": {
        "id": "WPRRNnEKi6aW",
        "colab_type": "text"
      },
      "source": [
        "По гистограмме видно: количество наблюдений недостаточно большое, но распределение похоже на нормальное."
      ]
    },
    {
      "cell_type": "code",
      "metadata": {
        "id": "sANwFnRCi6aa",
        "colab_type": "code",
        "colab": {}
      },
      "source": [
        ""
      ],
      "execution_count": 0,
      "outputs": []
    }
  ]
}