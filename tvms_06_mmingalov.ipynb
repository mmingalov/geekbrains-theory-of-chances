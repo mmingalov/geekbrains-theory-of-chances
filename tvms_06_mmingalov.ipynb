{
 "cells": [
  {
   "cell_type": "markdown",
   "metadata": {},
   "source": [
    "### Задача 1\n",
    "\n",
    "Даны значения величины заработной платы заемщиков банка (salary) и значения их поведенческого кредитного скоринга (scoring):\n",
    "\n",
    "salary = [35, 45, 190, 200, 40, 70, 54, 150, 120, 110]\n",
    "scoring = [401, 574, 874, 919, 459, 739, 653, 902, 746, 832]\n",
    "\n",
    "Используя только встроенные питоновские функции и структуры данных (т.е. без библиотек numpy, pandas и др.) найдите:\n",
    "1. ковариацию (смещённую и несмещённую) этих двух величин,\n",
    "2. коэффициент корреляции Пирсона,\n",
    "3. коэффициент корреляции Кендалла.\n",
    "\n",
    "### Решение"
   ]
  },
  {
   "cell_type": "code",
   "execution_count": 2,
   "metadata": {},
   "outputs": [],
   "source": [
    "import numpy as np\n",
    "import pandas as pd\n",
    "from scipy import stats\n",
    "from matplotlib import pyplot as plt"
   ]
  },
  {
   "cell_type": "code",
   "execution_count": 2,
   "metadata": {},
   "outputs": [],
   "source": [
    "salary = [35, 45, 190, 200, 40, 70, 54, 150, 120, 110] \n",
    "scoring = [401, 574, 874, 919, 459, 739, 653, 902, 746, 832]"
   ]
  },
  {
   "cell_type": "markdown",
   "metadata": {},
   "source": [
    "Ковариация рассчитывается по формуле$$cov_{XY} = M[(X - M(X))(Y - M(Y))] = M(XY) - M(X)M(Y)=\\overline{X \\cdot Y} - \\overline{X} \\cdot \\overline{Y}$$\n"
   ]
  },
  {
   "cell_type": "code",
   "execution_count": 20,
   "metadata": {},
   "outputs": [
    {
     "name": "stdout",
     "output_type": "stream",
     "text": [
      "ковариация смещенная:9157.839999999997\n"
     ]
    },
    {
     "data": {
      "text/plain": [
       "array([[ 3494.64,  9157.84],\n",
       "       [ 9157.84, 30468.89]])"
      ]
     },
     "execution_count": 20,
     "metadata": {},
     "output_type": "execute_result"
    }
   ],
   "source": [
    "XY=0\n",
    "X=0\n",
    "Y=0\n",
    "n = len(salary)\n",
    "for i in range(0,n):\n",
    "    XY = XY+salary[i]*scoring[i]\n",
    "    X = X+salary[i]\n",
    "    Y = Y+scoring[i]\n",
    "X_avg = X/n\n",
    "Y_avg = Y/n\n",
    "cov = XY/n - X_avg*Y_avg\n",
    "\n",
    "print(f'ковариация смещенная:{cov}')\n",
    "np.cov(salary,scoring,ddof=0)"
   ]
  },
  {
   "cell_type": "markdown",
   "metadata": {},
   "source": [
    "Несмещённую оценку можно посчитать следующим образом:\n",
    "$$\\sigma_{xy} = \\dfrac{1}{n - 1} \\displaystyle\\sum_{i = 1}^n (x_i - \\overline{x}) \\cdot (y_i - \\overline{y})$$"
   ]
  },
  {
   "cell_type": "code",
   "execution_count": 19,
   "metadata": {},
   "outputs": [
    {
     "name": "stdout",
     "output_type": "stream",
     "text": [
      "ковариация несмещенная:10175.377777777776\n"
     ]
    },
    {
     "data": {
      "text/plain": [
       "array([[ 3882.93333333, 10175.37777778],\n",
       "       [10175.37777778, 33854.32222222]])"
      ]
     },
     "execution_count": 19,
     "metadata": {},
     "output_type": "execute_result"
    }
   ],
   "source": [
    "sum_ = 0\n",
    "for i in range(0,n):\n",
    "   sum_ = sum_ + (salary[i]-X_avg)*(scoring[i]-Y_avg)\n",
    "cov_ = 1/(n-1)*sum_\n",
    "\n",
    "print(f'ковариация несмещенная:{cov_}')\n",
    "np.cov(salary,scoring,ddof=1)"
   ]
  },
  {
   "cell_type": "markdown",
   "metadata": {},
   "source": [
    "__коэффициент корреляции Пирсона__:\n",
    "$$r_{XY} = \\dfrac{\\sigma_{XY}}{\\sigma_X \\cdot \\sigma_Y}.$$\n",
    "\n",
    "Здесь $\\sigma_X$, $\\sigma_Y$ — среднее квадратическое отклонение.\n"
   ]
  },
  {
   "cell_type": "markdown",
   "metadata": {},
   "source": [
    "средние квадратические отклонения можнонайти из формулы расчета дисперсии\n",
    "\n",
    "$$\\sigma^2 = \\dfrac{1}{m} \\displaystyle\\sum_{i = 1}^m \\left( x_i - \\overline{x} \\right)^2$$"
   ]
  },
  {
   "cell_type": "code",
   "execution_count": 25,
   "metadata": {},
   "outputs": [
    {
     "name": "stdout",
     "output_type": "stream",
     "text": [
      "3494.6400000000003 59.115480206118605\n",
      "30468.89000000001 174.55340157098058\n"
     ]
    }
   ],
   "source": [
    "sum_X = 0\n",
    "sum_Y = 0\n",
    "for i in range(0,n):\n",
    "    sum_X = sum_X + (salary[i]-X_avg)**2\n",
    "    sum_Y = sum_Y + (scoring[i]-Y_avg)**2\n",
    "Dx = 1/(n)*sum_X\n",
    "Dy = 1/(n)*sum_Y\n",
    "scale_X = Dx**0.5\n",
    "scale_Y = Dy**0.5\n",
    "print(Dx, scale_X)\n",
    "print(Dy, scale_Y)"
   ]
  },
  {
   "cell_type": "code",
   "execution_count": 29,
   "metadata": {},
   "outputs": [
    {
     "name": "stdout",
     "output_type": "stream",
     "text": [
      "r= 0.8874900920739158\n",
      "ниже проверка через Numpy:\n"
     ]
    },
    {
     "data": {
      "text/plain": [
       "array([[1.        , 0.88749009],\n",
       "       [0.88749009, 1.        ]])"
      ]
     },
     "execution_count": 29,
     "metadata": {},
     "output_type": "execute_result"
    }
   ],
   "source": [
    "r = cov/(scale_X*scale_Y)\n",
    "print('r=',r)\n",
    "print('ниже проверка через Numpy:')\n",
    "np.corrcoef(salary, scoring)"
   ]
  },
  {
   "cell_type": "markdown",
   "metadata": {},
   "source": [
    "__коэффициент корреляции Кендалла__<br><br>\n",
    "Пусть $P$ — число всех согласованных комбинаций из двух пар, а $Q$ — число всех несогласованных комбинаций двух пар. __Коэффициент корреляции Кендалла__:\n",
    "$$\\tau = \\dfrac{P - Q}{P + Q}$$\n",
    "\n",
    "_Замечание_. Такое определение коэффициента Кендалла возможно только если выборки $X$ и $Y$ не имеют повторов.<br>\n",
    "Две пары $(x_i, y_i)$ и $(x_j, y_j)$ называются __согласованными__, если $x_i < x_j$ и $y_i < y_j$, или наоборот $x_i > x_j$ и $y_i > y_j$. В противном случае они называются __несогласованными__."
   ]
  },
  {
   "cell_type": "code",
   "execution_count": 34,
   "metadata": {},
   "outputs": [],
   "source": [
    "def is_concordant(pair1: tuple, pair2: tuple) -> bool:\n",
    "    \"\"\"Являются ли две пары согласованными.\n",
    "    \"\"\"\n",
    "    \n",
    "    return (pair1[0] - pair2[0]) * (pair1[1] - pair2[1]) > 0"
   ]
  },
  {
   "cell_type": "code",
   "execution_count": 35,
   "metadata": {},
   "outputs": [],
   "source": [
    "from itertools import combinations"
   ]
  },
  {
   "cell_type": "code",
   "execution_count": 36,
   "metadata": {},
   "outputs": [
    {
     "data": {
      "text/plain": [
       "[(35, 401),\n",
       " (45, 574),\n",
       " (190, 874),\n",
       " (200, 919),\n",
       " (40, 459),\n",
       " (70, 739),\n",
       " (54, 653),\n",
       " (150, 902),\n",
       " (120, 746),\n",
       " (110, 832)]"
      ]
     },
     "execution_count": 36,
     "metadata": {},
     "output_type": "execute_result"
    }
   ],
   "source": [
    "list(zip(salary, scoring))"
   ]
  },
  {
   "cell_type": "code",
   "execution_count": 39,
   "metadata": {},
   "outputs": [
    {
     "name": "stdout",
     "output_type": "stream",
     "text": [
      "(35, 401) (45, 574)\n",
      "(35, 401) (190, 874)\n",
      "(35, 401) (200, 919)\n",
      "(35, 401) (40, 459)\n",
      "(35, 401) (70, 739)\n",
      "(35, 401) (54, 653)\n",
      "(35, 401) (150, 902)\n",
      "(35, 401) (120, 746)\n",
      "(35, 401) (110, 832)\n",
      "(45, 574) (190, 874)\n",
      "(45, 574) (200, 919)\n",
      "(45, 574) (40, 459)\n",
      "(45, 574) (70, 739)\n",
      "(45, 574) (54, 653)\n",
      "(45, 574) (150, 902)\n",
      "(45, 574) (120, 746)\n",
      "(45, 574) (110, 832)\n",
      "(190, 874) (200, 919)\n",
      "(190, 874) (40, 459)\n",
      "(190, 874) (70, 739)\n",
      "(190, 874) (54, 653)\n",
      "(190, 874) (150, 902)\n",
      "(190, 874) (120, 746)\n",
      "(190, 874) (110, 832)\n",
      "(200, 919) (40, 459)\n",
      "(200, 919) (70, 739)\n",
      "(200, 919) (54, 653)\n",
      "(200, 919) (150, 902)\n",
      "(200, 919) (120, 746)\n",
      "(200, 919) (110, 832)\n",
      "(40, 459) (70, 739)\n",
      "(40, 459) (54, 653)\n",
      "(40, 459) (150, 902)\n",
      "(40, 459) (120, 746)\n",
      "(40, 459) (110, 832)\n",
      "(70, 739) (54, 653)\n",
      "(70, 739) (150, 902)\n",
      "(70, 739) (120, 746)\n",
      "(70, 739) (110, 832)\n",
      "(54, 653) (150, 902)\n",
      "(54, 653) (120, 746)\n",
      "(54, 653) (110, 832)\n",
      "(150, 902) (120, 746)\n",
      "(150, 902) (110, 832)\n",
      "(120, 746) (110, 832)\n"
     ]
    },
    {
     "data": {
      "text/plain": [
       "(43, 2)"
      ]
     },
     "execution_count": 39,
     "metadata": {},
     "output_type": "execute_result"
    }
   ],
   "source": [
    "P = 0\n",
    "Q = 0\n",
    "\n",
    "for pair1, pair2 in combinations(zip(salary, scoring), r=2):\n",
    "    if is_concordant(pair1, pair2):\n",
    "        P += 1\n",
    "    else:\n",
    "        Q += 1\n",
    "    print(pair1,pair2)\n",
    "P, Q"
   ]
  },
  {
   "cell_type": "code",
   "execution_count": 43,
   "metadata": {},
   "outputs": [
    {
     "name": "stdout",
     "output_type": "stream",
     "text": [
      "коэф-т корреляции Кендалла 0.9111111111111111\n",
      "ниже проверим расчет через Pandas:\n"
     ]
    },
    {
     "data": {
      "text/html": [
       "<div>\n",
       "<style scoped>\n",
       "    .dataframe tbody tr th:only-of-type {\n",
       "        vertical-align: middle;\n",
       "    }\n",
       "\n",
       "    .dataframe tbody tr th {\n",
       "        vertical-align: top;\n",
       "    }\n",
       "\n",
       "    .dataframe thead th {\n",
       "        text-align: right;\n",
       "    }\n",
       "</style>\n",
       "<table border=\"1\" class=\"dataframe\">\n",
       "  <thead>\n",
       "    <tr style=\"text-align: right;\">\n",
       "      <th></th>\n",
       "      <th>x</th>\n",
       "      <th>y</th>\n",
       "    </tr>\n",
       "  </thead>\n",
       "  <tbody>\n",
       "    <tr>\n",
       "      <td>x</td>\n",
       "      <td>1.000000</td>\n",
       "      <td>0.911111</td>\n",
       "    </tr>\n",
       "    <tr>\n",
       "      <td>y</td>\n",
       "      <td>0.911111</td>\n",
       "      <td>1.000000</td>\n",
       "    </tr>\n",
       "  </tbody>\n",
       "</table>\n",
       "</div>"
      ],
      "text/plain": [
       "          x         y\n",
       "x  1.000000  0.911111\n",
       "y  0.911111  1.000000"
      ]
     },
     "execution_count": 43,
     "metadata": {},
     "output_type": "execute_result"
    }
   ],
   "source": [
    "tau = (P-Q)/(P+Q)\n",
    "print('коэф-т корреляции Кендалла',tau)\n",
    "print('ниже проверим расчет через Pandas:')\n",
    "pd.DataFrame({'x': salary, 'y': scoring}).corr(method='kendall')"
   ]
  },
  {
   "cell_type": "markdown",
   "metadata": {},
   "source": [
    "### Задача 2\n",
    "\n",
    "Измерены значения IQ выборки студентов, обучающихся в местных технических вузах:\n",
    "\n",
    "131, 125, 115, 122, 131, 115, 107, 99, 125, 111\n",
    "\n",
    "Известно, что в генеральной совокупности IQ распределен нормально. Найдите доверительный интервал для математического ожидания с надежностью 0.95.\n",
    "\n",
    "### Решение"
   ]
  },
  {
   "cell_type": "code",
   "execution_count": 59,
   "metadata": {},
   "outputs": [
    {
     "name": "stdout",
     "output_type": "stream",
     "text": [
      "10 118.1 10.54566788359614\n"
     ]
    },
    {
     "data": {
      "text/plain": [
       "2.2621571627409915"
      ]
     },
     "execution_count": 59,
     "metadata": {},
     "output_type": "execute_result"
    }
   ],
   "source": [
    "IQ = [131, 125, 115, 122, 131, 115, 107, 99, 125, 111]\n",
    "n = len(IQ)\n",
    "\n",
    "#найдем среднее по выборке и среднее квадратическое отклонение\n",
    "mean = sum(IQ)/n\n",
    "sum_=0\n",
    "for i in range(0,n):\n",
    "    sum_ = sum_ + (IQ[i]-mean)**2\n",
    "scale_ = (1/(n-1)*sum_)**0.5\n",
    "print(n, mean, scale_)\n",
    "\n",
    "# Поскольку дисперсия нам неизвестна,будем использовать  t-распределение и t-статистику Стьюдента:\n",
    "p=0.95\n",
    "alpha = 1 - p\n",
    "t = stats.t.ppf(1 - alpha / 2, df=n - 1)\n",
    "t"
   ]
  },
  {
   "cell_type": "markdown",
   "metadata": {},
   "source": [
    "доверительный интервал для параметра $a$:\n",
    "$$\n",
    "P \\left(\n",
    "    \\overline{X} - t_{1 - \\alpha / 2} \\cdot \\dfrac{\\sigma}{\\sqrt{n}}\n",
    "    \\leq a \\leq \n",
    "    \\overline{X} + t_{1 - \\alpha / 2} \\cdot \\dfrac{\\sigma}{\\sqrt{n}}\n",
    "\\right) = p.\n",
    "$$"
   ]
  },
  {
   "cell_type": "code",
   "execution_count": 60,
   "metadata": {},
   "outputs": [
    {
     "data": {
      "text/plain": [
       "(110.55608365158724, 125.64391634841274)"
      ]
     },
     "execution_count": 60,
     "metadata": {},
     "output_type": "execute_result"
    }
   ],
   "source": [
    "# Итак, доверительный интервал:\n",
    "(mean - t * scale_ / np.sqrt(n), mean + t * scale_ / np.sqrt(n))"
   ]
  },
  {
   "cell_type": "markdown",
   "metadata": {},
   "source": [
    "### Задача 3\n",
    "\n",
    "Известно, что рост футболистов в сборной распределён нормально с известной дисперсией 25. На выборке объёма 27 выборочное среднее составило 174.2. Найдите доверительный интервал для математического ожидания с надёжностью 0.95.\n",
    "### Решение"
   ]
  },
  {
   "cell_type": "markdown",
   "metadata": {},
   "source": [
    "Если рассматриваемая случайная величина имеет нормальное распределение, то доверительный интервал для математического ожидания можно построить с помощью квантилей стандартного распределения (если дисперсия известна)<br>\n",
    "$$T(X) = \\dfrac{\\overline{X} - a}{\\sigma / \\sqrt{n}},$$\n",
    "где $\\sigma$ — известный параметр среднего квадратического отклонения. Статистика $T$ имеет стандартное распределение. Допустим, нас интересует симметричный доверительный интервал с уровнем доверия $p = 1 - \\alpha$. Тогда доверительный интервал для $T$ можно получить с помощью соответствующих квантилей:\n",
    "$$P(- t_{1 - \\alpha / 2} \\leq T \\leq t_{1 - \\alpha / 2}) = p.$$\n",
    "\n",
    "Преобразуем выражения в скобках и получим доверительный интервал для параметра $a$:\n",
    "$$\n",
    "P \\left(\n",
    "    \\overline{X} - t_{1 - \\alpha / 2} \\cdot \\dfrac{\\sigma}{\\sqrt{n}}\n",
    "    \\leq a \\leq \n",
    "    \\overline{X} + t_{1 - \\alpha / 2} \\cdot \\dfrac{\\sigma}{\\sqrt{n}}\n",
    "\\right) = p.\n",
    "$$"
   ]
  },
  {
   "cell_type": "code",
   "execution_count": 6,
   "metadata": {},
   "outputs": [
    {
     "data": {
      "text/plain": [
       "1.959963984540054"
      ]
     },
     "execution_count": 6,
     "metadata": {},
     "output_type": "execute_result"
    }
   ],
   "source": [
    "n=27\n",
    "D = 25\n",
    "scale = 5\n",
    "mean = 174.2\n",
    "p=0.95\n",
    "\n",
    "alpha = 1 - p\n",
    "\n",
    "t = stats.norm.ppf(1 - alpha/2)\n",
    "t\n",
    "\n"
   ]
  },
  {
   "cell_type": "code",
   "execution_count": 7,
   "metadata": {},
   "outputs": [
    {
     "data": {
      "text/plain": [
       "(172.3140237765397, 176.08597622346028)"
      ]
     },
     "execution_count": 7,
     "metadata": {},
     "output_type": "execute_result"
    }
   ],
   "source": [
    "# Итак, доверительный интервал:\n",
    "(mean - t * scale / np.sqrt(n), mean + t * scale / np.sqrt(n))"
   ]
  },
  {
   "cell_type": "code",
   "execution_count": null,
   "metadata": {},
   "outputs": [],
   "source": []
  }
 ],
 "metadata": {
  "kernelspec": {
   "display_name": "Python 3",
   "language": "python",
   "name": "python3"
  },
  "language_info": {
   "codemirror_mode": {
    "name": "ipython",
    "version": 3
   },
   "file_extension": ".py",
   "mimetype": "text/x-python",
   "name": "python",
   "nbconvert_exporter": "python",
   "pygments_lexer": "ipython3",
   "version": "3.7.4"
  }
 },
 "nbformat": 4,
 "nbformat_minor": 2
}
