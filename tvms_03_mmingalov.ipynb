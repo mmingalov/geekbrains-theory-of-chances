{
 "cells": [
  {
   "cell_type": "code",
   "execution_count": 11,
   "metadata": {},
   "outputs": [],
   "source": [
    "import numpy as np\n",
    "import pandas as pd\n",
    "import matplotlib.pyplot as plt\n",
    "import warnings\n",
    "warnings.filterwarnings('ignore')"
   ]
  },
  {
   "cell_type": "code",
   "execution_count": 80,
   "metadata": {},
   "outputs": [],
   "source": [
    "import seaborn as sns"
   ]
  },
  {
   "cell_type": "markdown",
   "metadata": {},
   "source": [
    "### Задача 1\n",
    "\n",
    "Даны значения зарплат из выборки выпускников:\n",
    "\n",
    "100, 80, 75, 77, 89, 33, 45, 25, 65, 17, 30, 230, 24, 57, 55, 70, 75, 65, 84, 90, 150\n",
    "\n",
    "Используя только встроенные питоновские функции и структуры данных (т.е. без библиотек numpy, pandas и др.) посчитать среднее арифметическое, смещённую и несмещённую оценки дисперсии, среднее квадратичное отклонение для данной выборки.\n",
    "\n",
    "Можно затем посчитать те же значения с использованием библиотек, чтобы проверить себя.\n",
    "#### Решение"
   ]
  },
  {
   "cell_type": "code",
   "execution_count": 7,
   "metadata": {},
   "outputs": [],
   "source": [
    "salary = [100, 80, 75, 77, 89, 33, 45, 25, 65, 17, 30, 230, 24, 57, 55, 70, 75, 65, 84, 90, 150]"
   ]
  },
  {
   "cell_type": "code",
   "execution_count": 8,
   "metadata": {},
   "outputs": [
    {
     "name": "stdout",
     "output_type": "stream",
     "text": [
      "Математическое ожидание: 73.14285714285714\n"
     ]
    }
   ],
   "source": [
    "AA=0\n",
    "for item in salary:\n",
    "    AA = AA + item\n",
    "MO = AA/len(salary)\n",
    "print(\"Математическое ожидание:\", MO)"
   ]
  },
  {
   "cell_type": "markdown",
   "metadata": {},
   "source": [
    "Среднее квадратичное отклонение:$$\\sigma = \\sqrt{\\frac{\\sum\\limits_{i=1}^{n} (x_i - \\overline{x})^2}{n}}$$"
   ]
  },
  {
   "cell_type": "code",
   "execution_count": 9,
   "metadata": {},
   "outputs": [
    {
     "name": "stdout",
     "output_type": "stream",
     "text": [
      "Квадратичное отклонение: 46.20686994302874\n"
     ]
    }
   ],
   "source": [
    "AA = 0\n",
    "for item in salary:\n",
    "    AA = AA + ((item - MO)**2)\n",
    "QO = (AA/len(salary))**0.5\n",
    "print(\"Квадратичное отклонение:\", QO)"
   ]
  },
  {
   "cell_type": "markdown",
   "metadata": {},
   "source": [
    "Смещенная и несмещенная оценки дисперсии:$$\\sigma^2 = \\dfrac{1}{m} \\displaystyle\\sum_{i = 1}^m \\left( x_i - \\overline{x} \\right)^2$$\n",
    "$$\\sigma_{unbiased}^2 = \\dfrac{1}{m - 1} \\displaystyle\\sum_{i = 1}^m \\left( x_i - \\overline{x} \\right)^2$$"
   ]
  },
  {
   "cell_type": "code",
   "execution_count": 10,
   "metadata": {},
   "outputs": [
    {
     "name": "stdout",
     "output_type": "stream",
     "text": [
      "Смещенная дисперсия: 2135.074829931973\n",
      "Несмещенная дисперсия: 2241.8285714285716\n"
     ]
    }
   ],
   "source": [
    "AA = 0\n",
    "for item in salary:\n",
    "    AA = AA + ((item - MO)**2)\n",
    "D_biased = AA/len(salary)\n",
    "D_unbiased = AA/(len(salary)-1)\n",
    "print(\"Смещенная дисперсия:\", D_biased)\n",
    "print(\"Несмещенная дисперсия:\", D_unbiased)"
   ]
  },
  {
   "cell_type": "code",
   "execution_count": 22,
   "metadata": {},
   "outputs": [
    {
     "name": "stdout",
     "output_type": "stream",
     "text": [
      "Математическое ожидание: 73.14285714285714\n",
      "Квадратичное отклонение: 46.206869943028735\n",
      "Смещенная дисперсия: 2135.0748299319725\n",
      "Несмещенная дисперсия: 2241.828571428571\n"
     ]
    }
   ],
   "source": [
    "#проверим вычисления через встроенные библиотеки\n",
    "a = np.array(salary)\n",
    "print(\"Математическое ожидание:\", a.mean())\n",
    "print(\"Квадратичное отклонение:\", a.std(ddof=0))\n",
    "print(\"Смещенная дисперсия:\", a.var())\n",
    "print(\"Несмещенная дисперсия:\", a.var(ddof=1))"
   ]
  },
  {
   "cell_type": "markdown",
   "metadata": {},
   "source": [
    "### Задача 2\n",
    "\n",
    "Для выборки из задачи 1 найти (также без использования библиотек):\n",
    "1. медиану, первый и третий квартили, интерквартильное расстояние,\n",
    "2. выборсы в выборке (используя для этого метод как при построении \"усов\" из boxplot).\n",
    "\n",
    "Возможные неоднозначности в вычислении квантилей можно разрешать любым способом.\n",
    "#### Решение"
   ]
  },
  {
   "cell_type": "markdown",
   "metadata": {},
   "source": [
    "##### найдем медиану, первый и третий квартили, интерквартильное расстояние,"
   ]
  },
  {
   "cell_type": "code",
   "execution_count": 52,
   "metadata": {},
   "outputs": [
    {
     "name": "stdout",
     "output_type": "stream",
     "text": [
      "21\n",
      "[17, 24, 25, 30, 33, 45, 55, 57, 65, 65, 70, 75, 75, 77, 80, 84, 89, 90, 100, 150, 230]\n"
     ]
    }
   ],
   "source": [
    "salary_sorted = sorted(salary)\n",
    "length = len(salary_sorted)\n",
    "b = pd.Series(salary)\n",
    "print(length)\n",
    "print(salary_sorted)"
   ]
  },
  {
   "cell_type": "code",
   "execution_count": 54,
   "metadata": {},
   "outputs": [
    {
     "data": {
      "text/plain": [
       "70"
      ]
     },
     "execution_count": 54,
     "metadata": {},
     "output_type": "execute_result"
    }
   ],
   "source": [
    "#salary_sorted[length//2-1:length//2+1]\n",
    "\n",
    "#ввиду того, что получили нечетную длину выборки, медиана будет посередине отсортированного массива\n",
    "salary_sorted[length//2]"
   ]
  },
  {
   "cell_type": "code",
   "execution_count": 57,
   "metadata": {},
   "outputs": [
    {
     "name": "stdout",
     "output_type": "stream",
     "text": [
      "Медиана: 70\n"
     ]
    }
   ],
   "source": [
    "#med = (salary_sorted[length//2-1] + salary_sorted[length//2])/2\n",
    "med = salary_sorted[length//2]\n",
    "print(\"Медиана:\",med)\n"
   ]
  },
  {
   "cell_type": "code",
   "execution_count": 67,
   "metadata": {},
   "outputs": [
    {
     "name": "stdout",
     "output_type": "stream",
     "text": [
      "Первый квартиль: 45\n"
     ]
    }
   ],
   "source": [
    "#первый квартиль\n",
    "Q1 = salary_sorted[int(length // 4)]\n",
    "print(\"Первый квартиль:\", Q1)"
   ]
  },
  {
   "cell_type": "code",
   "execution_count": 68,
   "metadata": {},
   "outputs": [
    {
     "name": "stdout",
     "output_type": "stream",
     "text": [
      "третий квартиль: 84\n"
     ]
    }
   ],
   "source": [
    "#третий квартиль\n",
    "Q3 = salary_sorted[int(length *3 // 4)]\n",
    "print(\"третий квартиль:\", Q3)"
   ]
  },
  {
   "cell_type": "code",
   "execution_count": 69,
   "metadata": {},
   "outputs": [
    {
     "name": "stdout",
     "output_type": "stream",
     "text": [
      "Интерквартильное расстояние:\n",
      "[45, 84]\n"
     ]
    }
   ],
   "source": [
    "print(\"Интерквартильное расстояние:\")\n",
    "print([Q1,Q3])"
   ]
  },
  {
   "cell_type": "code",
   "execution_count": 56,
   "metadata": {},
   "outputs": [
    {
     "name": "stdout",
     "output_type": "stream",
     "text": [
      "0    65\n",
      "1    75\n",
      "dtype: int64\n"
     ]
    },
    {
     "data": {
      "text/plain": [
       "0.25    45.0\n",
       "0.50    70.0\n",
       "0.75    84.0\n",
       "dtype: float64"
      ]
     },
     "execution_count": 56,
     "metadata": {},
     "output_type": "execute_result"
    }
   ],
   "source": [
    "#проверим вычисления через встроенные библиотеки\n",
    "print (b.mode())\n",
    "b.quantile([0.25, 0.5, 0.75])"
   ]
  },
  {
   "cell_type": "code",
   "execution_count": 86,
   "metadata": {},
   "outputs": [
    {
     "data": {
      "image/png": "[encoded data removed]",
      "text/plain": [
       "<Figure size 432x288 with 1 Axes>"
      ]
     },
     "metadata": {
      "needs_background": "light"
     },
     "output_type": "display_data"
    }
   ],
   "source": [
    "plt.hist(b, bins = 16)\n",
    "plt.show()"
   ]
  },
  {
   "cell_type": "markdown",
   "metadata": {},
   "source": [
    "##### найдем выборсы в выборке (используя для этого метод как при построении \"усов\" из boxplot)"
   ]
  },
  {
   "cell_type": "code",
   "execution_count": 74,
   "metadata": {},
   "outputs": [
    {
     "name": "stdout",
     "output_type": "stream",
     "text": [
      "Выброс: сумма з/п 230 с индексом 11\n",
      "Выброс: сумма з/п 150 с индексом 20\n"
     ]
    }
   ],
   "source": [
    "# выборсы в выборке\n",
    "iqr = Q3 - Q1\n",
    "boxplot_range_low = Q1 - 1.5 * iqr \n",
    "boxplot_range_high = Q3 + 1.5 * iqr\n",
    "\n",
    "for i in range(len(salary)):\n",
    "    if salary[i] < boxplot_range_low or salary[i] > boxplot_range_high:\n",
    "        print(f'Выброс: сумма з/п {salary[i]} с индексом {i}')"
   ]
  },
  {
   "cell_type": "code",
   "execution_count": 71,
   "metadata": {},
   "outputs": [
    {
     "data": {
      "text/plain": [
       "<matplotlib.axes._subplots.AxesSubplot at 0x268eb265588>"
      ]
     },
     "execution_count": 71,
     "metadata": {},
     "output_type": "execute_result"
    },
    {
     "data": {
      "image/png": "[encoded data removed]",
      "text/plain": [
       "<Figure size 432x288 with 1 Axes>"
      ]
     },
     "metadata": {
      "needs_background": "light"
     },
     "output_type": "display_data"
    }
   ],
   "source": [
    "#ОТОБРАЗИМ на графике усов\n",
    "pd.DataFrame(b).boxplot()"
   ]
  },
  {
   "cell_type": "code",
   "execution_count": 79,
   "metadata": {},
   "outputs": [
    {
     "name": "stdout",
     "output_type": "stream",
     "text": [
      "      0\n",
      "11  230\n",
      "20  150\n"
     ]
    }
   ],
   "source": [
    "#вычислим с использованием встроенных библиотек\n",
    "# выборсы в выборке\n",
    "df = pd.DataFrame(b)\n",
    "q1 = b.quantile(0.25)\n",
    "q3 = b.quantile(0.75)\n",
    "iqr = q3 - q1\n",
    "boxplot_range = (q1 - 1.5 * iqr, q3 + 1.5 * iqr)\n",
    "outliers = df.loc[(b < boxplot_range[0]) | (b > boxplot_range[1])]\n",
    "print(outliers)"
   ]
  },
  {
   "cell_type": "code",
   "execution_count": 87,
   "metadata": {},
   "outputs": [
    {
     "data": {
      "image/png": "[encoded data removed]",
      "text/plain": [
       "<Figure size 432x288 with 1 Axes>"
      ]
     },
     "metadata": {
      "needs_background": "light"
     },
     "output_type": "display_data"
    }
   ],
   "source": [
    "#seaborn -- более симпатичная визуализация\n",
    "sns.boxplot(df, orient='h')\n",
    "plt.show()"
   ]
  },
  {
   "cell_type": "markdown",
   "metadata": {},
   "source": [
    "#### Задача 3\n",
    "\n",
    "В университет на факультеты A и B поступило равное количество студентов, а на факультет C студентов поступило столько же, сколько на A и B вместе. Вероятность того, что студент факультета A сдаст первую сессию, равна 0.8. Для студента факультета B эта вероятность равна 0.7, а для студента факультета C - 0.9. Студент сдал первую сессию. Какова вероятность, что он учится: a) на факультете A? б) на факультете B? в) на факультете C?\n",
    "\n",
    "Замечание: да, эта задача не на тему описательных статистик, но тема важная, и её стоит иногда освежать в памяти.\n",
    "#### Решение"
   ]
  },
  {
   "cell_type": "code",
   "execution_count": 88,
   "metadata": {},
   "outputs": [
    {
     "name": "stdout",
     "output_type": "stream",
     "text": [
      "0.825\n"
     ]
    }
   ],
   "source": [
    "# Если на факультеты A и B поступило равное количество студентов, \n",
    "# а на факультет C студентов поступило столько же, сколько на A и B,\n",
    "# то на А и В учится по 1/4 всех студентов (0.25), а на С 1/2 (0/5).\n",
    "# Чтобы оценить безусловную вероятность сдачи первой сессии, воспользуемся формулой полной вероятности:\n",
    "P = 0.25*0.8 + 0.25*0.7 + 0.5*0.9\n",
    "print(P)"
   ]
  },
  {
   "cell_type": "code",
   "execution_count": 91,
   "metadata": {},
   "outputs": [
    {
     "name": "stdout",
     "output_type": "stream",
     "text": [
      "0.24242424242424246\n"
     ]
    }
   ],
   "source": [
    "# По формуле Байеса:\n",
    "# вероятность, что студент учится на факультете A:\n",
    "P_a = 0.25*0.8/0.825\n",
    "print(P_a)"
   ]
  },
  {
   "cell_type": "code",
   "execution_count": 92,
   "metadata": {},
   "outputs": [
    {
     "name": "stdout",
     "output_type": "stream",
     "text": [
      "0.21212121212121213\n"
     ]
    }
   ],
   "source": [
    "# вероятность, что студент учится на факультете В:\n",
    "P_b = 0.25*0.7/0.825\n",
    "print(P_b)"
   ]
  },
  {
   "cell_type": "code",
   "execution_count": 93,
   "metadata": {},
   "outputs": [
    {
     "name": "stdout",
     "output_type": "stream",
     "text": [
      "0.5454545454545455\n"
     ]
    }
   ],
   "source": [
    "# в) вероятность, что студент учится на факультете С:\n",
    "P_c = 0.5*0.9/0.825\n",
    "print(P_c)"
   ]
  },
  {
   "cell_type": "code",
   "execution_count": 94,
   "metadata": {},
   "outputs": [
    {
     "name": "stdout",
     "output_type": "stream",
     "text": [
      "1.0\n"
     ]
    }
   ],
   "source": [
    "print(P_a+P_b+P_c)"
   ]
  },
  {
   "cell_type": "markdown",
   "metadata": {},
   "source": [
    "Ответ: вероятность, что студент учится: \n",
    "- a) на факультете A: 0.24(24) \n",
    "- б) на факультете B: 0.21(21) \n",
    "- в) на факультете C: 0.54(54)"
   ]
  },
  {
   "cell_type": "code",
   "execution_count": null,
   "metadata": {},
   "outputs": [],
   "source": []
  }
 ],
 "metadata": {
  "kernelspec": {
   "display_name": "Python 3",
   "language": "python",
   "name": "python3"
  },
  "language_info": {
   "codemirror_mode": {
    "name": "ipython",
    "version": 3
   },
   "file_extension": ".py",
   "mimetype": "text/x-python",
   "name": "python",
   "nbconvert_exporter": "python",
   "pygments_lexer": "ipython3",
   "version": "3.7.4"
  }
 },
 "nbformat": 4,
 "nbformat_minor": 2
}
