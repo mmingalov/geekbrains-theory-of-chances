{
 "cells": [
  {
   "cell_type": "markdown",
   "metadata": {},
   "source": [
    "## Северсталь ч.1"
   ]
  },
  {
   "cell_type": "markdown",
   "metadata": {},
   "source": [
    "#### Постановка задачи:  \n",
    "  \n",
    "Сотрудник службы оценки качества продукции заметил, что число бракованных листов стали в партии для стали марки A больше, чем для стали марки B. Также он обратил внимание, что при средней скорости прокатки более 4 м/с число бракованных листов больше. В соответствии с этими наблюдениями, предлагается снизить скорость прокатки и ввести дополнительные меры контроля качества для стали марки A.   \n",
    "Обоснуйте, что:  \n",
    "1)\tБолее 3 бракованных листов на партию выходит значимо чаще для стали марки А, чем для стали марки B.  \n",
    "2)\tПри скоростях прокатки более 4 м/с свыше 3 бракованных листов стали на партию выходит значимо чаще, чем при меньших скоростях прокатки.   \n",
    "Данные, необходимые для анализа, содержатся в файле «Статистика за 2018 год». Количество листов стали в каждой партии предполагается одинаковым. "
   ]
  },
  {
   "cell_type": "code",
   "execution_count": 351,
   "metadata": {},
   "outputs": [],
   "source": [
    "import numpy as np\n",
    "import pandas as pd\n",
    "import matplotlib.pyplot as plt\n",
    "%matplotlib inline"
   ]
  },
  {
   "cell_type": "code",
   "execution_count": 352,
   "metadata": {},
   "outputs": [
    {
     "data": {
      "text/html": [
       "<div>\n",
       "<style scoped>\n",
       "    .dataframe tbody tr th:only-of-type {\n",
       "        vertical-align: middle;\n",
       "    }\n",
       "\n",
       "    .dataframe tbody tr th {\n",
       "        vertical-align: top;\n",
       "    }\n",
       "\n",
       "    .dataframe thead th {\n",
       "        text-align: right;\n",
       "    }\n",
       "</style>\n",
       "<table border=\"1\" class=\"dataframe\">\n",
       "  <thead>\n",
       "    <tr style=\"text-align: right;\">\n",
       "      <th></th>\n",
       "      <th>Число бракованных листов</th>\n",
       "      <th>Скорость прокатки</th>\n",
       "      <th>Марка стали</th>\n",
       "    </tr>\n",
       "  </thead>\n",
       "  <tbody>\n",
       "    <tr>\n",
       "      <th>0</th>\n",
       "      <td>3</td>\n",
       "      <td>3.8</td>\n",
       "      <td>A</td>\n",
       "    </tr>\n",
       "    <tr>\n",
       "      <th>1</th>\n",
       "      <td>3</td>\n",
       "      <td>3.8</td>\n",
       "      <td>B</td>\n",
       "    </tr>\n",
       "    <tr>\n",
       "      <th>2</th>\n",
       "      <td>3</td>\n",
       "      <td>4.8</td>\n",
       "      <td>B</td>\n",
       "    </tr>\n",
       "    <tr>\n",
       "      <th>3</th>\n",
       "      <td>4</td>\n",
       "      <td>4.4</td>\n",
       "      <td>B</td>\n",
       "    </tr>\n",
       "    <tr>\n",
       "      <th>4</th>\n",
       "      <td>6</td>\n",
       "      <td>5.0</td>\n",
       "      <td>B</td>\n",
       "    </tr>\n",
       "  </tbody>\n",
       "</table>\n",
       "</div>"
      ],
      "text/plain": [
       "   Число бракованных листов  Скорость прокатки Марка стали\n",
       "0                         3                3.8           A\n",
       "1                         3                3.8           B\n",
       "2                         3                4.8           B\n",
       "3                         4                4.4           B\n",
       "4                         6                5.0           B"
      ]
     },
     "execution_count": 352,
     "metadata": {},
     "output_type": "execute_result"
    }
   ],
   "source": [
    "df = pd.read_csv('E:\\Arc\\Synhronized\\data\\dataset_sev.csv', sep=',', header=0, encoding='cp1251')\n",
    "df.head()"
   ]
  },
  {
   "cell_type": "code",
   "execution_count": 353,
   "metadata": {},
   "outputs": [
    {
     "name": "stdout",
     "output_type": "stream",
     "text": [
      "<class 'pandas.core.frame.DataFrame'>\n",
      "RangeIndex: 237 entries, 0 to 236\n",
      "Data columns (total 3 columns):\n",
      "Число бракованных листов    237 non-null int64\n",
      "Скорость прокатки           237 non-null float64\n",
      "Марка стали                 237 non-null object\n",
      "dtypes: float64(1), int64(1), object(1)\n",
      "memory usage: 5.6+ KB\n"
     ]
    }
   ],
   "source": [
    "df.info()"
   ]
  },
  {
   "cell_type": "code",
   "execution_count": 354,
   "metadata": {},
   "outputs": [
    {
     "data": {
      "text/html": [
       "<div>\n",
       "<style scoped>\n",
       "    .dataframe tbody tr th:only-of-type {\n",
       "        vertical-align: middle;\n",
       "    }\n",
       "\n",
       "    .dataframe tbody tr th {\n",
       "        vertical-align: top;\n",
       "    }\n",
       "\n",
       "    .dataframe thead th {\n",
       "        text-align: right;\n",
       "    }\n",
       "</style>\n",
       "<table border=\"1\" class=\"dataframe\">\n",
       "  <thead>\n",
       "    <tr style=\"text-align: right;\">\n",
       "      <th></th>\n",
       "      <th>Число бракованных листов</th>\n",
       "      <th>Скорость прокатки</th>\n",
       "    </tr>\n",
       "  </thead>\n",
       "  <tbody>\n",
       "    <tr>\n",
       "      <th>count</th>\n",
       "      <td>237.000000</td>\n",
       "      <td>237.000000</td>\n",
       "    </tr>\n",
       "    <tr>\n",
       "      <th>mean</th>\n",
       "      <td>3.257384</td>\n",
       "      <td>4.509705</td>\n",
       "    </tr>\n",
       "    <tr>\n",
       "      <th>std</th>\n",
       "      <td>1.807821</td>\n",
       "      <td>0.696260</td>\n",
       "    </tr>\n",
       "    <tr>\n",
       "      <th>min</th>\n",
       "      <td>0.000000</td>\n",
       "      <td>2.500000</td>\n",
       "    </tr>\n",
       "    <tr>\n",
       "      <th>25%</th>\n",
       "      <td>2.000000</td>\n",
       "      <td>4.100000</td>\n",
       "    </tr>\n",
       "    <tr>\n",
       "      <th>50%</th>\n",
       "      <td>3.000000</td>\n",
       "      <td>4.600000</td>\n",
       "    </tr>\n",
       "    <tr>\n",
       "      <th>75%</th>\n",
       "      <td>4.000000</td>\n",
       "      <td>5.000000</td>\n",
       "    </tr>\n",
       "    <tr>\n",
       "      <th>max</th>\n",
       "      <td>8.000000</td>\n",
       "      <td>6.500000</td>\n",
       "    </tr>\n",
       "  </tbody>\n",
       "</table>\n",
       "</div>"
      ],
      "text/plain": [
       "       Число бракованных листов  Скорость прокатки\n",
       "count                237.000000         237.000000\n",
       "mean                   3.257384           4.509705\n",
       "std                    1.807821           0.696260\n",
       "min                    0.000000           2.500000\n",
       "25%                    2.000000           4.100000\n",
       "50%                    3.000000           4.600000\n",
       "75%                    4.000000           5.000000\n",
       "max                    8.000000           6.500000"
      ]
     },
     "execution_count": 354,
     "metadata": {},
     "output_type": "execute_result"
    }
   ],
   "source": [
    "df.describe()"
   ]
  },
  {
   "cell_type": "markdown",
   "metadata": {},
   "source": [
    "Имеем количественные данные (кол-во бракованных листов в партии) и 2 фактора - марка стали и скорость прокатки ($> 4$ и $\\leq 4$).  \n",
    "требуется проверить значимость факторов.  \n",
    "  \n",
    "Выдвигаем гипотезу $H_0 = \\{ Кол-во\\ бракованных\\ листов\\ не\\ зависит\\ ни\\ от\\ марки\\ стали,\\ ни\\ от\\ скорости\\ прокатки\\}$.  \n",
    "Или же, перефразируя, среднее кол-во бракованных листов в партии для марок A и B одинаково, для скоростей прокатки - тоже: $H_0 = \\{\\overline{x_A}=\\overline{x_B};\\  \\overline{x_{>4}}=\\overline{x_{\\leq4}}\\}$  \n",
    "Уровень надежности положим 0.95."
   ]
  },
  {
   "cell_type": "markdown",
   "metadata": {},
   "source": [
    "Для начала посмотрим на распределение целевой переменной, дабы понимать что вообще имеем.   \n",
    "Партии изготавливаются автоматически, откуда предположим что кол-во бракованных листов в каждой партии не зависит от брака в прочих партиях, откуда имеем дело с испытаниями Бернулли, а значит приближенно можем пользоваться нормальным распределением по ЦПТ (это все предположения, которые неплохо бы проверить).  \n",
    "Для начала предположим, что гипотезу о нормальности распределения мы приняли. Проверкой нормальности в данной задаче пока не занимаюсь.    \n",
    "Посмотрим что имеем."
   ]
  },
  {
   "cell_type": "code",
   "execution_count": 355,
   "metadata": {},
   "outputs": [
    {
     "data": {
      "image/png": "[encoded data removed]",
      "text/plain": [
       "<Figure size 432x288 with 1 Axes>"
      ]
     },
     "metadata": {
      "needs_background": "light"
     },
     "output_type": "display_data"
    }
   ],
   "source": [
    "plt.hist(df[df['Марка стали'] == 'A']['Число бракованных листов'], bins=8)\n",
    "plt.show()"
   ]
  },
  {
   "cell_type": "code",
   "execution_count": 356,
   "metadata": {},
   "outputs": [
    {
     "data": {
      "image/png": "[encoded data removed]",
      "text/plain": [
       "<Figure size 432x288 with 1 Axes>"
      ]
     },
     "metadata": {
      "needs_background": "light"
     },
     "output_type": "display_data"
    }
   ],
   "source": [
    "plt.hist(df[df['Марка стали'] == 'B']['Число бракованных листов'], bins=8)\n",
    "plt.show()"
   ]
  },
  {
   "cell_type": "markdown",
   "metadata": {},
   "source": [
    "В целом все выглядит пристойно, выбросов не наблюдается, мультимодальности тоже."
   ]
  },
  {
   "cell_type": "markdown",
   "metadata": {},
   "source": [
    "По условию задачи, мы не рассматриваем партии, где кол-во брака  $\\leq$ 3."
   ]
  },
  {
   "cell_type": "markdown",
   "metadata": {},
   "source": [
    "Применяем двухфакторный дисперсионный анализ. \n",
    "Считаем суммы квадратов отклонений по факторам и общее.  \n",
    "$S^2_a = k \\sum\\limits^m_{i=1}(\\overline y_{i*} - \\overline{y})^2$  \n",
    "$S^2_b = m \\sum\\limits^k_{j=1}(\\overline y_{*j} - \\overline{y})^2$  \n",
    "$S^2_w = \\sum\\limits^m_{i=1} \\sum\\limits^k_{j=1}(y_{ij} - \\overline{y_{i*}} - \\overline{y_{*j}} + \\overline{y})^2$  "
   ]
  },
  {
   "cell_type": "code",
   "execution_count": 357,
   "metadata": {},
   "outputs": [
    {
     "name": "stdout",
     "output_type": "stream",
     "text": [
      "<class 'pandas.core.frame.DataFrame'>\n",
      "RangeIndex: 237 entries, 0 to 236\n",
      "Data columns (total 3 columns):\n",
      "Число бракованных листов    237 non-null int64\n",
      "Скорость прокатки           237 non-null float64\n",
      "Марка стали                 237 non-null object\n",
      "dtypes: float64(1), int64(1), object(1)\n",
      "memory usage: 5.6+ KB\n"
     ]
    }
   ],
   "source": [
    "#df1 = df.loc[df['Число бракованных листов'] > 3]\n",
    "df1 = df\n",
    "mean = df1['Число бракованных листов'].mean()\n",
    "std = df1['Число бракованных листов'].std(ddof=1)\n",
    "n = len(df1['Число бракованных листов'])\n",
    "df1.info()"
   ]
  },
  {
   "cell_type": "code",
   "execution_count": 358,
   "metadata": {},
   "outputs": [
    {
     "data": {
      "text/html": [
       "<div>\n",
       "<style scoped>\n",
       "    .dataframe tbody tr th:only-of-type {\n",
       "        vertical-align: middle;\n",
       "    }\n",
       "\n",
       "    .dataframe tbody tr th {\n",
       "        vertical-align: top;\n",
       "    }\n",
       "\n",
       "    .dataframe thead th {\n",
       "        text-align: right;\n",
       "    }\n",
       "</style>\n",
       "<table border=\"1\" class=\"dataframe\">\n",
       "  <thead>\n",
       "    <tr style=\"text-align: right;\">\n",
       "      <th></th>\n",
       "      <th>Число бракованных листов</th>\n",
       "      <th>Скорость прокатки</th>\n",
       "    </tr>\n",
       "  </thead>\n",
       "  <tbody>\n",
       "    <tr>\n",
       "      <th>count</th>\n",
       "      <td>237.000000</td>\n",
       "      <td>237.000000</td>\n",
       "    </tr>\n",
       "    <tr>\n",
       "      <th>mean</th>\n",
       "      <td>3.257384</td>\n",
       "      <td>4.509705</td>\n",
       "    </tr>\n",
       "    <tr>\n",
       "      <th>std</th>\n",
       "      <td>1.807821</td>\n",
       "      <td>0.696260</td>\n",
       "    </tr>\n",
       "    <tr>\n",
       "      <th>min</th>\n",
       "      <td>0.000000</td>\n",
       "      <td>2.500000</td>\n",
       "    </tr>\n",
       "    <tr>\n",
       "      <th>25%</th>\n",
       "      <td>2.000000</td>\n",
       "      <td>4.100000</td>\n",
       "    </tr>\n",
       "    <tr>\n",
       "      <th>50%</th>\n",
       "      <td>3.000000</td>\n",
       "      <td>4.600000</td>\n",
       "    </tr>\n",
       "    <tr>\n",
       "      <th>75%</th>\n",
       "      <td>4.000000</td>\n",
       "      <td>5.000000</td>\n",
       "    </tr>\n",
       "    <tr>\n",
       "      <th>max</th>\n",
       "      <td>8.000000</td>\n",
       "      <td>6.500000</td>\n",
       "    </tr>\n",
       "  </tbody>\n",
       "</table>\n",
       "</div>"
      ],
      "text/plain": [
       "       Число бракованных листов  Скорость прокатки\n",
       "count                237.000000         237.000000\n",
       "mean                   3.257384           4.509705\n",
       "std                    1.807821           0.696260\n",
       "min                    0.000000           2.500000\n",
       "25%                    2.000000           4.100000\n",
       "50%                    3.000000           4.600000\n",
       "75%                    4.000000           5.000000\n",
       "max                    8.000000           6.500000"
      ]
     },
     "execution_count": 358,
     "metadata": {},
     "output_type": "execute_result"
    }
   ],
   "source": [
    "df1.describe()"
   ]
  },
  {
   "cell_type": "code",
   "execution_count": 359,
   "metadata": {},
   "outputs": [
    {
     "name": "stdout",
     "output_type": "stream",
     "text": [
      "<class 'pandas.core.frame.DataFrame'>\n",
      "Int64Index: 139 entries, 0 to 236\n",
      "Data columns (total 3 columns):\n",
      "Число бракованных листов    139 non-null int64\n",
      "Скорость прокатки           139 non-null float64\n",
      "Марка стали                 139 non-null object\n",
      "dtypes: float64(1), int64(1), object(1)\n",
      "memory usage: 4.3+ KB\n"
     ]
    }
   ],
   "source": [
    "# Среднее для марки A:\n",
    "df_1a = df1.loc[df['Марка стали'] == 'A']\n",
    "mean_1a = df_1a['Число бракованных листов'].mean()\n",
    "std_1a = df_1a['Число бракованных листов'].std(ddof=1)\n",
    "n_1a = len(df_1a['Число бракованных листов'])\n",
    "df_1a.info()"
   ]
  },
  {
   "cell_type": "code",
   "execution_count": 360,
   "metadata": {},
   "outputs": [
    {
     "name": "stdout",
     "output_type": "stream",
     "text": [
      "<class 'pandas.core.frame.DataFrame'>\n",
      "Int64Index: 98 entries, 1 to 235\n",
      "Data columns (total 3 columns):\n",
      "Число бракованных листов    98 non-null int64\n",
      "Скорость прокатки           98 non-null float64\n",
      "Марка стали                 98 non-null object\n",
      "dtypes: float64(1), int64(1), object(1)\n",
      "memory usage: 3.1+ KB\n"
     ]
    }
   ],
   "source": [
    "# Среднее для марки B:\n",
    "df_1b = df1.loc[df['Марка стали'] == 'B']\n",
    "mean_1b = df_1b['Число бракованных листов'].mean()\n",
    "std_1b = df_1b['Число бракованных листов'].std(ddof=1)\n",
    "n_1b = len(df_1b['Число бракованных листов'])\n",
    "df_1b.info()"
   ]
  },
  {
   "cell_type": "code",
   "execution_count": 361,
   "metadata": {},
   "outputs": [
    {
     "name": "stdout",
     "output_type": "stream",
     "text": [
      "<class 'pandas.core.frame.DataFrame'>\n",
      "Int64Index: 179 entries, 2 to 236\n",
      "Data columns (total 3 columns):\n",
      "Число бракованных листов    179 non-null int64\n",
      "Скорость прокатки           179 non-null float64\n",
      "Марка стали                 179 non-null object\n",
      "dtypes: float64(1), int64(1), object(1)\n",
      "memory usage: 5.6+ KB\n"
     ]
    }
   ],
   "source": [
    "# Среднее для скорости > 4:\n",
    "df_a1 = df1.loc[df['Скорость прокатки'] > 4]\n",
    "mean_a1 = df_a1['Число бракованных листов'].mean()\n",
    "std_a1 = df_a1['Число бракованных листов'].std(ddof=1)\n",
    "n_a1 = len(df_a1['Число бракованных листов'])\n",
    "df_a1.info()"
   ]
  },
  {
   "cell_type": "code",
   "execution_count": 362,
   "metadata": {},
   "outputs": [
    {
     "name": "stdout",
     "output_type": "stream",
     "text": [
      "<class 'pandas.core.frame.DataFrame'>\n",
      "Int64Index: 58 entries, 0 to 233\n",
      "Data columns (total 3 columns):\n",
      "Число бракованных листов    58 non-null int64\n",
      "Скорость прокатки           58 non-null float64\n",
      "Марка стали                 58 non-null object\n",
      "dtypes: float64(1), int64(1), object(1)\n",
      "memory usage: 1.8+ KB\n"
     ]
    }
   ],
   "source": [
    "# Среднее для скорости <= 4:\n",
    "df_b1 = df1.loc[df['Скорость прокатки'] <= 4]\n",
    "mean_b1 = df_b1['Число бракованных листов'].mean()\n",
    "std_b1 = df_b1['Число бракованных листов'].std(ddof=1)\n",
    "n_b1 = len(df_b1['Число бракованных листов'])\n",
    "df_b1.info()"
   ]
  },
  {
   "cell_type": "code",
   "execution_count": 363,
   "metadata": {},
   "outputs": [
    {
     "data": {
      "text/plain": [
       "(0.0362048460593954, 0.07845766547226918)"
      ]
     },
     "execution_count": 363,
     "metadata": {},
     "output_type": "execute_result"
    }
   ],
   "source": [
    "k, m = 2, 2\n",
    "s_a = ((mean_1a - mean) ** 2 + (mean_1b - mean) ** 2) * k\n",
    "s_b = ((mean_a1 - mean) ** 2 + (mean_b1 - mean) ** 2) * m\n",
    "s_a, s_b"
   ]
  },
  {
   "cell_type": "code",
   "execution_count": 364,
   "metadata": {},
   "outputs": [
    {
     "data": {
      "text/plain": [
       "(3.179856115107914, 3.36734693877551, 3.257383966244726)"
      ]
     },
     "execution_count": 364,
     "metadata": {},
     "output_type": "execute_result"
    }
   ],
   "source": [
    "mean_1a, mean_1b, mean"
   ]
  },
  {
   "cell_type": "code",
   "execution_count": 365,
   "metadata": {},
   "outputs": [],
   "source": [
    "# Всего 4 группы. чтобы не плодить код, тупо сделаем 4 массива для суммирования\n",
    "x_aa = df1.loc[df['Марка стали'] == 'A'].loc[df['Скорость прокатки'] > 4]['Число бракованных листов']\n",
    "x_ab = df1.loc[df['Марка стали'] == 'B'].loc[df['Скорость прокатки'] > 4]['Число бракованных листов']\n",
    "x_ba = df1.loc[df['Марка стали'] == 'A'].loc[df['Скорость прокатки'] <= 4]['Число бракованных листов']\n",
    "x_bb = df1.loc[df['Марка стали'] == 'B'].loc[df['Скорость прокатки'] <= 4]['Число бракованных листов']"
   ]
  },
  {
   "cell_type": "code",
   "execution_count": 366,
   "metadata": {},
   "outputs": [
    {
     "data": {
      "text/plain": [
       "0.27365080482328297"
      ]
     },
     "execution_count": 366,
     "metadata": {},
     "output_type": "execute_result"
    }
   ],
   "source": [
    "# s_w_aa = sum((x_aa - mean_1a - mean_a1 + mean) ** 2)\n",
    "# s_w_ab = sum((x_ab - mean_1b - mean_a1 + mean) ** 2)\n",
    "# s_w_ba = sum((x_ba - mean_1a - mean_b1 + mean) ** 2)\n",
    "# s_w_bb = sum((x_bb - mean_1b - mean_b1 + mean) ** 2)\n",
    "s_w_aa = (x_aa.median() - mean_1a - mean_a1 + mean) ** 2\n",
    "s_w_ab = (x_ab.median() - mean_1b - mean_a1 + mean) ** 2\n",
    "s_w_ba = (x_ba.median() - mean_1a - mean_b1 + mean) ** 2\n",
    "s_w_bb = (x_bb.median() - mean_1b - mean_b1 + mean) ** 2\n",
    "#s_w = s_w_aa + s_w_ab + s_w_ba + s_w_bb\n",
    "s_w = s_w_aa + s_w_ab + s_w_ba + s_w_bb\n",
    "s_w"
   ]
  },
  {
   "cell_type": "markdown",
   "metadata": {},
   "source": [
    "Оценки дисперсий:  \n",
    "$\\sigma_{a}^2 = \\frac{S^2_a}{k - 1}, \\sigma_{b}^2 = \\frac{S^2_b}{m - 1}, \\sigma_{w}^2 = \\frac{S^2_w}{(k - 1)(m - 1)}$"
   ]
  },
  {
   "cell_type": "code",
   "execution_count": 367,
   "metadata": {},
   "outputs": [
    {
     "data": {
      "text/plain": [
       "(0.0362048460593954, 0.07845766547226918, 0.27365080482328297)"
      ]
     },
     "execution_count": 367,
     "metadata": {},
     "output_type": "execute_result"
    }
   ],
   "source": [
    "sigma_a = s_a / (m - 1)\n",
    "sigma_b = s_b / (k - 1)\n",
    "sigma_w = s_w / ((m - 1) * (k - 1))\n",
    "sigma_a, sigma_b, sigma_w"
   ]
  },
  {
   "cell_type": "markdown",
   "metadata": {},
   "source": [
    "Считаем статистики:  \n",
    "$F_a = \\frac{\\sigma_{a}^2}{\\sigma_{w}^2}, F_b = \\frac{\\sigma_{b}^2}{\\sigma_{w}^2}$  \n",
    "они имеют $f$- распределение с параметрами $(k-1, n-k)$ и $(m-1, n-m)$ соответственно."
   ]
  },
  {
   "cell_type": "code",
   "execution_count": 368,
   "metadata": {},
   "outputs": [
    {
     "data": {
      "text/plain": [
       "(0.1323030863467608, 0.2867072345098171)"
      ]
     },
     "execution_count": 368,
     "metadata": {},
     "output_type": "execute_result"
    }
   ],
   "source": [
    "f_a = sigma_a / sigma_w\n",
    "f_b = sigma_b / sigma_w\n",
    "f_a, f_b"
   ]
  },
  {
   "cell_type": "code",
   "execution_count": 369,
   "metadata": {},
   "outputs": [
    {
     "data": {
      "text/plain": [
       "(3.8813336574500306, 3.8813336574500306)"
      ]
     },
     "execution_count": 369,
     "metadata": {},
     "output_type": "execute_result"
    }
   ],
   "source": [
    "from scipy.stats import f\n",
    "\n",
    "f_ca = f.ppf(0.95, k - 1, n - k)\n",
    "f_cb = f.ppf(0.95, m - 1, n - m)\n",
    "# понятно, что k = m и значения будут одинаковы, но чтобы не путаться\n",
    "f_ca, f_cb"
   ]
  },
  {
   "cell_type": "markdown",
   "metadata": {},
   "source": [
    "Значение статистик не попадает в критическую область, гипотезу о равенстве средних не отвергаем.\n",
    "Чешем репу как быть дальше."
   ]
  },
  {
   "cell_type": "code",
   "execution_count": 370,
   "metadata": {},
   "outputs": [
    {
     "name": "stdout",
     "output_type": "stream",
     "text": [
      "<class 'pandas.core.frame.DataFrame'>\n",
      "RangeIndex: 237 entries, 0 to 236\n",
      "Data columns (total 3 columns):\n",
      "Число бракованных листов    237 non-null int64\n",
      "Скорость прокатки           237 non-null float64\n",
      "Марка стали                 237 non-null int64\n",
      "dtypes: float64(1), int64(2)\n",
      "memory usage: 5.6 KB\n"
     ]
    }
   ],
   "source": [
    "df2 = df1\n",
    "df2.loc[df1['Марка стали'] == 'A', 'Марка стали'] = 0\n",
    "df2.loc[df1['Марка стали'] == 'B', 'Марка стали'] = 1\n",
    "df2.info()"
   ]
  },
  {
   "cell_type": "code",
   "execution_count": 371,
   "metadata": {},
   "outputs": [
    {
     "data": {
      "image/png": "[encoded data removed]",
      "text/plain": [
       "<Figure size 360x288 with 2 Axes>"
      ]
     },
     "metadata": {
      "needs_background": "light"
     },
     "output_type": "display_data"
    }
   ],
   "source": [
    "import seaborn as sns\n",
    "\n",
    "plt.figure(figsize=(5, 4))\n",
    "sns.set(font_scale=1.4)\n",
    "df_corr = df2.corr()\n",
    "sns.heatmap(df_corr, annot=True, linewidths=.5, cmap='GnBu')\n",
    "plt.show()"
   ]
  },
  {
   "cell_type": "markdown",
   "metadata": {},
   "source": [
    "Похоже скорость прокатки никак не связана с маркой стали."
   ]
  },
  {
   "cell_type": "markdown",
   "metadata": {},
   "source": [
    "Все заново."
   ]
  },
  {
   "cell_type": "markdown",
   "metadata": {},
   "source": [
    "Вернемся к тому, что у нас есть испытания Бернулли, про параметры которых мы ничего не знаем.  \n",
    "Гипотеза: $H_0=\\{p_a=p_b\\}$, где $p_a, p_b$ - вероятность успеха (брака) в испытании Бернулли.   \n",
    "Берем pooled Z-test Пирсона:  \n",
    "$\\large Z = \\sqrt{\\frac{n_1n_2}{n_1 + n_2}}\\frac{\\widehat{p_1} - \\widehat{p_2}}{\\sqrt{\\widehat{p}(1-\\widehat{p})}} \\in N(0, 1)$ (ассимптотически)  \n",
    "  \n",
    "где  \n",
    "$\\large \\widehat{p_1} = \\overline{x_1} / N, \\widehat{p_2}= \\overline{x_2} / N, \\widehat{p} = \\frac{n_1\\widehat{p_1} + n_2\\widehat{p_2}}{n_1 + n_2}$  \n",
    "где $N$ - размер одной партии"
   ]
  },
  {
   "cell_type": "code",
   "execution_count": 372,
   "metadata": {},
   "outputs": [],
   "source": [
    "df = pd.read_csv('E:\\Arc\\Synhronized\\data\\dataset_sev.csv', sep=',', header=0, encoding='cp1251')"
   ]
  },
  {
   "cell_type": "code",
   "execution_count": 373,
   "metadata": {},
   "outputs": [
    {
     "data": {
      "text/plain": [
       "(3.179856115107914, 1.8891444216400666, 139)"
      ]
     },
     "execution_count": 373,
     "metadata": {},
     "output_type": "execute_result"
    }
   ],
   "source": [
    "df_1a = df.loc[df['Марка стали'] == 'A']\n",
    "mean_1a = df_1a['Число бракованных листов'].mean()\n",
    "std_1a = df_1a['Число бракованных листов'].std(ddof=1)\n",
    "n_1a = len(df_1a['Число бракованных листов'])\n",
    "mean_1a, std_1a, n_1a"
   ]
  },
  {
   "cell_type": "code",
   "execution_count": 374,
   "metadata": {},
   "outputs": [
    {
     "data": {
      "text/plain": [
       "(3.36734693877551, 1.6891879040828492, 98)"
      ]
     },
     "execution_count": 374,
     "metadata": {},
     "output_type": "execute_result"
    }
   ],
   "source": [
    "df_1b = df.loc[df['Марка стали'] == 'B']\n",
    "mean_1b = df_1b['Число бракованных листов'].mean()\n",
    "std_1b = df_1b['Число бракованных листов'].std(ddof=1)\n",
    "n_1b = len(df_1b['Число бракованных листов'])\n",
    "mean_1b, std_1b, n_1b"
   ]
  },
  {
   "cell_type": "code",
   "execution_count": 375,
   "metadata": {},
   "outputs": [
    {
     "data": {
      "text/plain": [
       "-0.024945963999511947"
      ]
     },
     "execution_count": 375,
     "metadata": {},
     "output_type": "execute_result"
    }
   ],
   "source": [
    "n = 1000 # Тупое допущение с потолка\n",
    "p_1a, p_1b = mean_1a / n, mean_1b / n \n",
    "p = (n_1a * p_1a + n_1b * p_1b) / (n_1a + n_1b)\n",
    "z = (n_1a * n_1b / (n_1a + n_1b)) ** .5 * (p_1a - p_1b) / ((p * (1 - p)) ** .5)\n",
    "z"
   ]
  },
  {
   "cell_type": "markdown",
   "metadata": {},
   "source": [
    "Опять-таки не выходит"
   ]
  },
  {
   "cell_type": "markdown",
   "metadata": {},
   "source": [
    "Пусть снова нормальное распределение. Проверяем гипотезу о равенстве средних двух совокупностей при неизвестных дсиперсиях.  \n",
    "  \n",
    "\n",
    "$\\large Z = \\frac{\\overline{x_b} - \\overline{x_a}}{\\sqrt{\\frac{s^2_a}{n_a} + \\frac{s^2_b}{n_b}}}$  \n",
    "имеет $t$- распределение с $\\nu$ степенями свободы, где $\\large \\nu \\approx \\frac{(\\frac{s^2_a}{n_a} + \\frac{s^2_b}{n_b})^2}{(s^2_a / n_a)^2 / (n_a - 1) + (s^2_b / n_b)^2 / (n_b - 1)}$"
   ]
  },
  {
   "cell_type": "code",
   "execution_count": 376,
   "metadata": {},
   "outputs": [
    {
     "data": {
      "text/plain": [
       "0.8009856037385842"
      ]
     },
     "execution_count": 376,
     "metadata": {},
     "output_type": "execute_result"
    }
   ],
   "source": [
    "z = (mean_1b - mean_1a) / ((std_1a ** 2 / n_1a + std_1b ** 2 / n_1b) ** .5)\n",
    "z"
   ]
  },
  {
   "cell_type": "code",
   "execution_count": 377,
   "metadata": {},
   "outputs": [
    {
     "data": {
      "text/plain": [
       "682.0715535749547"
      ]
     },
     "execution_count": 377,
     "metadata": {},
     "output_type": "execute_result"
    }
   ],
   "source": [
    "nu = ((std_1a ** 2 / n_1a + std_1b ** 2 / n_1b) ** 2) / ((std_1a ** 2) / (n_1a ** 2 * (n_1a - 1))  + (std_1b ** 2) / (n_1b ** 2 * (n_1b - 1)))\n",
    "nu"
   ]
  },
  {
   "cell_type": "code",
   "execution_count": 378,
   "metadata": {},
   "outputs": [],
   "source": [
    "from scipy.stats import t"
   ]
  },
  {
   "cell_type": "code",
   "execution_count": 379,
   "metadata": {},
   "outputs": [
    {
     "data": {
      "text/plain": [
       "1.963448464439343"
      ]
     },
     "execution_count": 379,
     "metadata": {},
     "output_type": "execute_result"
    }
   ],
   "source": [
    "t_cr = t.ppf(0.975, 682)\n",
    "t_cr"
   ]
  },
  {
   "cell_type": "markdown",
   "metadata": {},
   "source": [
    "ОПЯТЬ НЕ ПОЛУЧИЛОСЬ"
   ]
  },
  {
   "cell_type": "markdown",
   "metadata": {},
   "source": [
    "Гипотеза о равенстве двух средних значений нормально распределённых генеральных совокупностей, дисперсии которых неизвестны и одинаковы (малые независимые выборки).  \n",
    "$\\large Z = \\frac{\\overline{x_a} - \\overline{x_b}}{\\sqrt{n_a \\sigma^2_a + n_b \\sigma^2_b}}\\sqrt{\\frac{n_an_b(n_a+n_b - 2)}{n_a + n_b}}$  \n",
    "Имеет $t$-распределение с $n_a+n_b-2$ степенями свободы"
   ]
  },
  {
   "cell_type": "code",
   "execution_count": 380,
   "metadata": {},
   "outputs": [
    {
     "data": {
      "text/plain": [
       "-0.7823713620104985"
      ]
     },
     "execution_count": 380,
     "metadata": {},
     "output_type": "execute_result"
    }
   ],
   "source": [
    "z = (mean_1a - mean_1b)/ ((n_1a * std_1a ** 2 + n_1b * std_1b ** 2) ** .5) * (n_1a * n_1b * (n_1a + n_1b - 2) / (n_1a + n_1b)) ** .5\n",
    "z                                                                              "
   ]
  },
  {
   "cell_type": "code",
   "execution_count": 381,
   "metadata": {},
   "outputs": [
    {
     "data": {
      "text/plain": [
       "235"
      ]
     },
     "execution_count": 381,
     "metadata": {},
     "output_type": "execute_result"
    }
   ],
   "source": [
    "n_1a + n_1b - 2"
   ]
  },
  {
   "cell_type": "code",
   "execution_count": 382,
   "metadata": {},
   "outputs": [
    {
     "data": {
      "text/plain": [
       "-1.9701100622670775"
      ]
     },
     "execution_count": 382,
     "metadata": {},
     "output_type": "execute_result"
    }
   ],
   "source": [
    "t.ppf(0.025, 235)"
   ]
  },
  {
   "cell_type": "markdown",
   "metadata": {},
   "source": [
    "И снова нет.  \n",
    "Пора сделать вывод о том, что средние по маркам стали видимо равны. Но это в целом. как сделать для кол-ва брака больше 3?"
   ]
  },
  {
   "cell_type": "markdown",
   "metadata": {},
   "source": [
    "Новая парадигма.   \n",
    "Будем считать, что появление $>$ 3 бракованных листов в партии есть успех в испытании Бернулли, соответственно, $\\leq$ 3 - неудача. Наша цель - оценить параметры $p$ и проверить гипотезу об их равенстве. Использовать будем Z-тест Пирсона."
   ]
  },
  {
   "cell_type": "code",
   "execution_count": 383,
   "metadata": {},
   "outputs": [],
   "source": [
    "df = pd.read_csv('E:\\Arc\\Synhronized\\data\\dataset_sev.csv', sep=',', header=0, encoding='cp1251')"
   ]
  },
  {
   "cell_type": "code",
   "execution_count": 384,
   "metadata": {},
   "outputs": [
    {
     "data": {
      "text/plain": [
       "(0.381294964028777, 139)"
      ]
     },
     "execution_count": 384,
     "metadata": {},
     "output_type": "execute_result"
    }
   ],
   "source": [
    "n_a = df.loc[df['Марка стали'] == 'A']['Число бракованных листов'].count()\n",
    "p_a = df.loc[df['Марка стали'] == 'A'].loc[df['Число бракованных листов'] > 3]['Число бракованных листов'].count() / n_a\n",
    "p_a, n_a"
   ]
  },
  {
   "cell_type": "code",
   "execution_count": 385,
   "metadata": {},
   "outputs": [
    {
     "data": {
      "text/plain": [
       "count    53.000000\n",
       "mean      5.113208\n",
       "std       1.339638\n",
       "min       4.000000\n",
       "25%       4.000000\n",
       "50%       5.000000\n",
       "75%       6.000000\n",
       "max       8.000000\n",
       "Name: Число бракованных листов, dtype: float64"
      ]
     },
     "execution_count": 385,
     "metadata": {},
     "output_type": "execute_result"
    }
   ],
   "source": [
    "df.loc[df['Марка стали'] == 'A'].loc[df['Число бракованных листов'] > 3]['Число бракованных листов'].describe()"
   ]
  },
  {
   "cell_type": "code",
   "execution_count": 386,
   "metadata": {},
   "outputs": [
    {
     "data": {
      "text/plain": [
       "(0.4489795918367347, 98)"
      ]
     },
     "execution_count": 386,
     "metadata": {},
     "output_type": "execute_result"
    }
   ],
   "source": [
    "n_b = df.loc[df['Марка стали'] == 'B']['Число бракованных листов'].count()\n",
    "p_b = df.loc[df['Марка стали'] == 'B'].loc[df['Число бракованных листов'] > 3]['Число бракованных листов'].count() / n_b\n",
    "p_b, n_b"
   ]
  },
  {
   "cell_type": "markdown",
   "metadata": {},
   "source": [
    "Вобщем то у нас уже значение для марки B получилось выше, чем для A, что явно противоречит тому, что нужно обосновать. тем не менее, посмотрим что имеем."
   ]
  },
  {
   "cell_type": "markdown",
   "metadata": {},
   "source": [
    "Гипотеза: $H_0=\\{p_a=p_b\\}$, где $p_a, p_b$ - вероятность успеха (в нашем случае - кол-ва брака > 3) в испытании Бернулли.   \n",
    "Берем pooled Z-test Пирсона:  \n",
    "$\\large Z = \\sqrt{\\frac{n_1n_2}{n_1 + n_2}}\\frac{\\widehat{p_1} - \\widehat{p_2}}{\\sqrt{\\widehat{p}(1-\\widehat{p})}} \\in N(0, 1)$ (ассимптотически)  \n",
    "  \n",
    "где  \n",
    "$\\large \\widehat{p_1} = \\overline{x_1} / N, \\widehat{p_2}= \\overline{x_2} / N, \\widehat{p} = \\frac{n_1\\widehat{p_1} + n_2\\widehat{p_2}}{n_1 + n_2}$  "
   ]
  },
  {
   "cell_type": "code",
   "execution_count": 387,
   "metadata": {},
   "outputs": [
    {
     "data": {
      "text/plain": [
       "-1.0436016837317679"
      ]
     },
     "execution_count": 387,
     "metadata": {},
     "output_type": "execute_result"
    }
   ],
   "source": [
    "p = (n_a * p_a + n_b * p_b) / (n_a + n_b)\n",
    "z = ((n_a * n_b) / (n_a + n_b)) ** .5 * ((p_a - p_b) / ((p * (1 - p)) ** .5))\n",
    "z"
   ]
  },
  {
   "cell_type": "markdown",
   "metadata": {},
   "source": [
    "Собсно с надежностью 66% мы можем утверждать, что вероятность появления более 3 листов брака выше для марки B!"
   ]
  },
  {
   "cell_type": "markdown",
   "metadata": {},
   "source": [
    "Аналогично смотрим для скорости прокатки."
   ]
  },
  {
   "cell_type": "code",
   "execution_count": 388,
   "metadata": {},
   "outputs": [
    {
     "data": {
      "text/plain": [
       "(0.4134078212290503, 179)"
      ]
     },
     "execution_count": 388,
     "metadata": {},
     "output_type": "execute_result"
    }
   ],
   "source": [
    "n_a = df.loc[df['Скорость прокатки'] > 4]['Число бракованных листов'].count()\n",
    "p_a = df.loc[df['Скорость прокатки'] > 4].loc[df['Число бракованных листов'] > 3]['Число бракованных листов'].count() / n_a\n",
    "p_a, n_a"
   ]
  },
  {
   "cell_type": "code",
   "execution_count": 389,
   "metadata": {},
   "outputs": [
    {
     "data": {
      "text/plain": [
       "(0.39655172413793105, 58)"
      ]
     },
     "execution_count": 389,
     "metadata": {},
     "output_type": "execute_result"
    }
   ],
   "source": [
    "n_b = df.loc[df['Скорость прокатки'] <= 4]['Число бракованных листов'].count()\n",
    "p_b = df.loc[df['Скорость прокатки'] <= 4].loc[df['Число бракованных листов'] > 3]['Число бракованных листов'].count() / n_b\n",
    "p_b, n_b"
   ]
  },
  {
   "cell_type": "code",
   "execution_count": 390,
   "metadata": {},
   "outputs": [
    {
     "data": {
      "text/plain": [
       "0.22689337982109553"
      ]
     },
     "execution_count": 390,
     "metadata": {},
     "output_type": "execute_result"
    }
   ],
   "source": [
    "p = (n_a * p_a + n_b * p_b) / (n_a + n_b)\n",
    "z = ((n_a * n_b) / (n_a + n_b)) ** .5 * ((p_a - p_b) / ((p * (1 - p)) ** .5))\n",
    "z"
   ]
  },
  {
   "cell_type": "markdown",
   "metadata": {},
   "source": [
    "Здесь вообще получается что параметры равны и скорость прокатки на вероятность появления более 3 листов брака не влияет, что вообще-то контринтуитивно."
   ]
  }
 ],
 "metadata": {
  "kernelspec": {
   "display_name": "Python 3",
   "language": "python",
   "name": "python3"
  },
  "language_info": {
   "codemirror_mode": {
    "name": "ipython",
    "version": 3
   },
   "file_extension": ".py",
   "mimetype": "text/x-python",
   "name": "python",
   "nbconvert_exporter": "python",
   "pygments_lexer": "ipython3",
   "version": "3.7.3"
  }
 },
 "nbformat": 4,
 "nbformat_minor": 4
}
